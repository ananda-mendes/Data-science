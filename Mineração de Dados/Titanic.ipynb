{
  "nbformat": 4,
  "nbformat_minor": 0,
  "metadata": {
    "colab": {
      "name": "Exercicios_Titanic.ipynb",
      "provenance": [],
      "collapsed_sections": [
        "wjAakC6lkG6H",
        "P1Fl7uJL07wL",
        "Xp62IcYx1FSs",
        "DQb0Gp7y1KHv",
        "h-eRPJNMrZ-8",
        "aG-0xtqYuWC8"
      ]
    },
    "kernelspec": {
      "name": "python3",
      "display_name": "Python 3"
    },
    "language_info": {
      "name": "python"
    }
  },
  "cells": [
    {
      "cell_type": "markdown",
      "source": [
        "## **MINERAÇÃO DE DADOS - DATASET TITANIC**\n",
        "**Aluna:** Ananda Mendes Souza - 19.1.4030\n",
        "\n",
        "**Professor:** Anderson Almeida Ferreira\n",
        "\n",
        "---\n",
        "\n"
      ],
      "metadata": {
        "id": "IwtPQuPx6Sin"
      }
    },
    {
      "cell_type": "markdown",
      "source": [
        "Este notebook contém todas as atividades realizadas com o conjunto de dados de treinamento do desafio \"Titanic: Machine Learning from Disaster\" do Kaggle (https://www.kaggle.com/c/titanic).\n",
        "\n",
        "Está dividido em três partes: Caracterização de um conjunto de dados, Limpeza e transformação de dados e Estimando o desempenho dos classificadores."
      ],
      "metadata": {
        "id": "zLBu_SAjqX_0"
      }
    },
    {
      "cell_type": "markdown",
      "source": [
        "## Caracterização de um conjunto de dados"
      ],
      "metadata": {
        "id": "FxPjG68Pq93x"
      }
    },
    {
      "cell_type": "markdown",
      "source": [
        "### Importação das bibliotecas necessárias"
      ],
      "metadata": {
        "id": "i2h2UUuJ6fM5"
      }
    },
    {
      "cell_type": "code",
      "execution_count": 29,
      "metadata": {
        "id": "LNJSesw-6B9t"
      },
      "outputs": [],
      "source": [
        "import matplotlib.pyplot as plt\n",
        "import numpy as np\n",
        "import pandas as pd\n",
        "import seaborn as sns\n",
        "from scipy import stats\n",
        "\n",
        "import sklearn\n",
        "import sklearn.preprocessing\n",
        "from sklearn.preprocessing import minmax_scale, scale, StandardScaler\n",
        "from sklearn.pipeline import make_pipeline\n",
        "from sklearn import model_selection, svm, metrics, cluster\n",
        "from sklearn.svm import SVC\n",
        "from sklearn.model_selection import GridSearchCV\n"
      ]
    },
    {
      "cell_type": "markdown",
      "source": [
        "### Importação dos dados"
      ],
      "metadata": {
        "id": "B5vdHk0Vgl8n"
      }
    },
    {
      "cell_type": "code",
      "source": [
        "df = pd.read_csv('train.csv')\n",
        "df.head()"
      ],
      "metadata": {
        "colab": {
          "base_uri": "https://localhost:8080/",
          "height": 206
        },
        "id": "EYR3A1QXgQrD",
        "outputId": "899173a8-7901-43f1-8382-da6f18a3951d"
      },
      "execution_count": 30,
      "outputs": [
        {
          "output_type": "execute_result",
          "data": {
            "text/plain": [
              "   PassengerId  Survived  Pclass  \\\n",
              "0            1         0       3   \n",
              "1            2         1       1   \n",
              "2            3         1       3   \n",
              "3            4         1       1   \n",
              "4            5         0       3   \n",
              "\n",
              "                                                Name     Sex   Age  SibSp  \\\n",
              "0                            Braund, Mr. Owen Harris    male  22.0      1   \n",
              "1  Cumings, Mrs. John Bradley (Florence Briggs Th...  female  38.0      1   \n",
              "2                             Heikkinen, Miss. Laina  female  26.0      0   \n",
              "3       Futrelle, Mrs. Jacques Heath (Lily May Peel)  female  35.0      1   \n",
              "4                           Allen, Mr. William Henry    male  35.0      0   \n",
              "\n",
              "   Parch            Ticket     Fare Cabin Embarked  \n",
              "0      0         A/5 21171   7.2500   NaN        S  \n",
              "1      0          PC 17599  71.2833   C85        C  \n",
              "2      0  STON/O2. 3101282   7.9250   NaN        S  \n",
              "3      0            113803  53.1000  C123        S  \n",
              "4      0            373450   8.0500   NaN        S  "
            ],
            "text/html": [
              "\n",
              "  <div id=\"df-a4f38e87-1017-459f-bb41-3247db778378\">\n",
              "    <div class=\"colab-df-container\">\n",
              "      <div>\n",
              "<style scoped>\n",
              "    .dataframe tbody tr th:only-of-type {\n",
              "        vertical-align: middle;\n",
              "    }\n",
              "\n",
              "    .dataframe tbody tr th {\n",
              "        vertical-align: top;\n",
              "    }\n",
              "\n",
              "    .dataframe thead th {\n",
              "        text-align: right;\n",
              "    }\n",
              "</style>\n",
              "<table border=\"1\" class=\"dataframe\">\n",
              "  <thead>\n",
              "    <tr style=\"text-align: right;\">\n",
              "      <th></th>\n",
              "      <th>PassengerId</th>\n",
              "      <th>Survived</th>\n",
              "      <th>Pclass</th>\n",
              "      <th>Name</th>\n",
              "      <th>Sex</th>\n",
              "      <th>Age</th>\n",
              "      <th>SibSp</th>\n",
              "      <th>Parch</th>\n",
              "      <th>Ticket</th>\n",
              "      <th>Fare</th>\n",
              "      <th>Cabin</th>\n",
              "      <th>Embarked</th>\n",
              "    </tr>\n",
              "  </thead>\n",
              "  <tbody>\n",
              "    <tr>\n",
              "      <th>0</th>\n",
              "      <td>1</td>\n",
              "      <td>0</td>\n",
              "      <td>3</td>\n",
              "      <td>Braund, Mr. Owen Harris</td>\n",
              "      <td>male</td>\n",
              "      <td>22.0</td>\n",
              "      <td>1</td>\n",
              "      <td>0</td>\n",
              "      <td>A/5 21171</td>\n",
              "      <td>7.2500</td>\n",
              "      <td>NaN</td>\n",
              "      <td>S</td>\n",
              "    </tr>\n",
              "    <tr>\n",
              "      <th>1</th>\n",
              "      <td>2</td>\n",
              "      <td>1</td>\n",
              "      <td>1</td>\n",
              "      <td>Cumings, Mrs. John Bradley (Florence Briggs Th...</td>\n",
              "      <td>female</td>\n",
              "      <td>38.0</td>\n",
              "      <td>1</td>\n",
              "      <td>0</td>\n",
              "      <td>PC 17599</td>\n",
              "      <td>71.2833</td>\n",
              "      <td>C85</td>\n",
              "      <td>C</td>\n",
              "    </tr>\n",
              "    <tr>\n",
              "      <th>2</th>\n",
              "      <td>3</td>\n",
              "      <td>1</td>\n",
              "      <td>3</td>\n",
              "      <td>Heikkinen, Miss. Laina</td>\n",
              "      <td>female</td>\n",
              "      <td>26.0</td>\n",
              "      <td>0</td>\n",
              "      <td>0</td>\n",
              "      <td>STON/O2. 3101282</td>\n",
              "      <td>7.9250</td>\n",
              "      <td>NaN</td>\n",
              "      <td>S</td>\n",
              "    </tr>\n",
              "    <tr>\n",
              "      <th>3</th>\n",
              "      <td>4</td>\n",
              "      <td>1</td>\n",
              "      <td>1</td>\n",
              "      <td>Futrelle, Mrs. Jacques Heath (Lily May Peel)</td>\n",
              "      <td>female</td>\n",
              "      <td>35.0</td>\n",
              "      <td>1</td>\n",
              "      <td>0</td>\n",
              "      <td>113803</td>\n",
              "      <td>53.1000</td>\n",
              "      <td>C123</td>\n",
              "      <td>S</td>\n",
              "    </tr>\n",
              "    <tr>\n",
              "      <th>4</th>\n",
              "      <td>5</td>\n",
              "      <td>0</td>\n",
              "      <td>3</td>\n",
              "      <td>Allen, Mr. William Henry</td>\n",
              "      <td>male</td>\n",
              "      <td>35.0</td>\n",
              "      <td>0</td>\n",
              "      <td>0</td>\n",
              "      <td>373450</td>\n",
              "      <td>8.0500</td>\n",
              "      <td>NaN</td>\n",
              "      <td>S</td>\n",
              "    </tr>\n",
              "  </tbody>\n",
              "</table>\n",
              "</div>\n",
              "      <button class=\"colab-df-convert\" onclick=\"convertToInteractive('df-a4f38e87-1017-459f-bb41-3247db778378')\"\n",
              "              title=\"Convert this dataframe to an interactive table.\"\n",
              "              style=\"display:none;\">\n",
              "        \n",
              "  <svg xmlns=\"http://www.w3.org/2000/svg\" height=\"24px\"viewBox=\"0 0 24 24\"\n",
              "       width=\"24px\">\n",
              "    <path d=\"M0 0h24v24H0V0z\" fill=\"none\"/>\n",
              "    <path d=\"M18.56 5.44l.94 2.06.94-2.06 2.06-.94-2.06-.94-.94-2.06-.94 2.06-2.06.94zm-11 1L8.5 8.5l.94-2.06 2.06-.94-2.06-.94L8.5 2.5l-.94 2.06-2.06.94zm10 10l.94 2.06.94-2.06 2.06-.94-2.06-.94-.94-2.06-.94 2.06-2.06.94z\"/><path d=\"M17.41 7.96l-1.37-1.37c-.4-.4-.92-.59-1.43-.59-.52 0-1.04.2-1.43.59L10.3 9.45l-7.72 7.72c-.78.78-.78 2.05 0 2.83L4 21.41c.39.39.9.59 1.41.59.51 0 1.02-.2 1.41-.59l7.78-7.78 2.81-2.81c.8-.78.8-2.07 0-2.86zM5.41 20L4 18.59l7.72-7.72 1.47 1.35L5.41 20z\"/>\n",
              "  </svg>\n",
              "      </button>\n",
              "      \n",
              "  <style>\n",
              "    .colab-df-container {\n",
              "      display:flex;\n",
              "      flex-wrap:wrap;\n",
              "      gap: 12px;\n",
              "    }\n",
              "\n",
              "    .colab-df-convert {\n",
              "      background-color: #E8F0FE;\n",
              "      border: none;\n",
              "      border-radius: 50%;\n",
              "      cursor: pointer;\n",
              "      display: none;\n",
              "      fill: #1967D2;\n",
              "      height: 32px;\n",
              "      padding: 0 0 0 0;\n",
              "      width: 32px;\n",
              "    }\n",
              "\n",
              "    .colab-df-convert:hover {\n",
              "      background-color: #E2EBFA;\n",
              "      box-shadow: 0px 1px 2px rgba(60, 64, 67, 0.3), 0px 1px 3px 1px rgba(60, 64, 67, 0.15);\n",
              "      fill: #174EA6;\n",
              "    }\n",
              "\n",
              "    [theme=dark] .colab-df-convert {\n",
              "      background-color: #3B4455;\n",
              "      fill: #D2E3FC;\n",
              "    }\n",
              "\n",
              "    [theme=dark] .colab-df-convert:hover {\n",
              "      background-color: #434B5C;\n",
              "      box-shadow: 0px 1px 3px 1px rgba(0, 0, 0, 0.15);\n",
              "      filter: drop-shadow(0px 1px 2px rgba(0, 0, 0, 0.3));\n",
              "      fill: #FFFFFF;\n",
              "    }\n",
              "  </style>\n",
              "\n",
              "      <script>\n",
              "        const buttonEl =\n",
              "          document.querySelector('#df-a4f38e87-1017-459f-bb41-3247db778378 button.colab-df-convert');\n",
              "        buttonEl.style.display =\n",
              "          google.colab.kernel.accessAllowed ? 'block' : 'none';\n",
              "\n",
              "        async function convertToInteractive(key) {\n",
              "          const element = document.querySelector('#df-a4f38e87-1017-459f-bb41-3247db778378');\n",
              "          const dataTable =\n",
              "            await google.colab.kernel.invokeFunction('convertToInteractive',\n",
              "                                                     [key], {});\n",
              "          if (!dataTable) return;\n",
              "\n",
              "          const docLinkHtml = 'Like what you see? Visit the ' +\n",
              "            '<a target=\"_blank\" href=https://colab.research.google.com/notebooks/data_table.ipynb>data table notebook</a>'\n",
              "            + ' to learn more about interactive tables.';\n",
              "          element.innerHTML = '';\n",
              "          dataTable['output_type'] = 'display_data';\n",
              "          await google.colab.output.renderOutput(dataTable, element);\n",
              "          const docLink = document.createElement('div');\n",
              "          docLink.innerHTML = docLinkHtml;\n",
              "          element.appendChild(docLink);\n",
              "        }\n",
              "      </script>\n",
              "    </div>\n",
              "  </div>\n",
              "  "
            ]
          },
          "metadata": {},
          "execution_count": 30
        }
      ]
    },
    {
      "cell_type": "markdown",
      "source": [
        "### Tipos de atributos"
      ],
      "metadata": {
        "id": "wjAakC6lkG6H"
      }
    },
    {
      "cell_type": "code",
      "source": [
        "df.columns"
      ],
      "metadata": {
        "colab": {
          "base_uri": "https://localhost:8080/"
        },
        "id": "amHG-e4FzEqn",
        "outputId": "8396a5bf-c2a8-403e-81a6-e5423190b464"
      },
      "execution_count": 31,
      "outputs": [
        {
          "output_type": "execute_result",
          "data": {
            "text/plain": [
              "Index(['PassengerId', 'Survived', 'Pclass', 'Name', 'Sex', 'Age', 'SibSp',\n",
              "       'Parch', 'Ticket', 'Fare', 'Cabin', 'Embarked'],\n",
              "      dtype='object')"
            ]
          },
          "metadata": {},
          "execution_count": 31
        }
      ]
    },
    {
      "cell_type": "markdown",
      "source": [
        "Com base nas colunas (acima), podemos observar os seguintes tipos de atributos:\n",
        "\n",
        "* Atributos categóricos nominais: 'Survived', 'Sex', 'Embarked', 'Cabin', 'Ticket', 'Name' \n",
        "* Atributos categóricos ordinais: 'Age', 'Pclass', 'SibSp', 'Parch', 'Fare', 'PassengerId'\n",
        "* Atributos binários simétricos: 'Survived'\n",
        "* Atributos binários assimétricos: -\n",
        "* Atributos contínuos: 'Fare'\n",
        "* Atributos discretos: 'Age', 'PassengerId', 'Pclass'"
      ],
      "metadata": {
        "id": "GqE2sCBtzakG"
      }
    },
    {
      "cell_type": "markdown",
      "source": [
        "### Atributos numéricos\n",
        "\n",
        "Valor médio:"
      ],
      "metadata": {
        "id": "P1Fl7uJL07wL"
      }
    },
    {
      "cell_type": "code",
      "source": [
        "names = [\"PassengerId\",\"Pclass\", \"Age\", \"SibSp\", \"Parch\", \"Fare\"]\n",
        "df[names].mean()"
      ],
      "metadata": {
        "colab": {
          "base_uri": "https://localhost:8080/"
        },
        "id": "r8URPtkUYqNz",
        "outputId": "1a1c2136-c6e6-4341-9ec0-e142b01b030e"
      },
      "execution_count": 32,
      "outputs": [
        {
          "output_type": "execute_result",
          "data": {
            "text/plain": [
              "PassengerId    446.000000\n",
              "Pclass           2.308642\n",
              "Age             29.699118\n",
              "SibSp            0.523008\n",
              "Parch            0.381594\n",
              "Fare            32.204208\n",
              "dtype: float64"
            ]
          },
          "metadata": {},
          "execution_count": 32
        }
      ]
    },
    {
      "cell_type": "code",
      "source": [
        "values = df[names].mean()\n",
        "plt.bar(names, values)\n",
        "plt.show()"
      ],
      "metadata": {
        "colab": {
          "base_uri": "https://localhost:8080/",
          "height": 0
        },
        "id": "ypFTZ7hmzYFP",
        "outputId": "ded7f254-f69a-4aa9-de42-691fbf59284a"
      },
      "execution_count": 33,
      "outputs": [
        {
          "output_type": "display_data",
          "data": {
            "text/plain": [
              "<Figure size 432x288 with 1 Axes>"
            ],
            "image/png": "[encoded data removed]"
          },
          "metadata": {
            "needs_background": "light"
          }
        }
      ]
    },
    {
      "cell_type": "markdown",
      "source": [
        "Valor máximo:"
      ],
      "metadata": {
        "id": "ArLGZezKYhRT"
      }
    },
    {
      "cell_type": "code",
      "source": [
        "df[names].max()"
      ],
      "metadata": {
        "colab": {
          "base_uri": "https://localhost:8080/"
        },
        "id": "s8IRN1R0YcXL",
        "outputId": "f4d198f6-719d-4ce9-e5fc-5f9595343520"
      },
      "execution_count": 34,
      "outputs": [
        {
          "output_type": "execute_result",
          "data": {
            "text/plain": [
              "PassengerId    891.0000\n",
              "Pclass           3.0000\n",
              "Age             80.0000\n",
              "SibSp            8.0000\n",
              "Parch            6.0000\n",
              "Fare           512.3292\n",
              "dtype: float64"
            ]
          },
          "metadata": {},
          "execution_count": 34
        }
      ]
    },
    {
      "cell_type": "markdown",
      "source": [
        "Valor mínimo:"
      ],
      "metadata": {
        "id": "P230JhrDYmJC"
      }
    },
    {
      "cell_type": "code",
      "source": [
        "df[names].min()"
      ],
      "metadata": {
        "colab": {
          "base_uri": "https://localhost:8080/"
        },
        "id": "xjF02OcfYkPD",
        "outputId": "d96c35f7-79aa-4514-b5a8-e4cc41553a89"
      },
      "execution_count": 35,
      "outputs": [
        {
          "output_type": "execute_result",
          "data": {
            "text/plain": [
              "PassengerId    1.00\n",
              "Pclass         1.00\n",
              "Age            0.42\n",
              "SibSp          0.00\n",
              "Parch          0.00\n",
              "Fare           0.00\n",
              "dtype: float64"
            ]
          },
          "metadata": {},
          "execution_count": 35
        }
      ]
    },
    {
      "cell_type": "markdown",
      "source": [
        "Intervalo de valores:"
      ],
      "metadata": {
        "id": "oBStPOHoaCVf"
      }
    },
    {
      "cell_type": "code",
      "source": [
        "print(\"PassengerId:\", df[\"PassengerId\"].min(), \"-\", df[\"PassengerId\"].max())\n",
        "print(\"Pclass:\", df[\"Pclass\"].min(), \"-\", df[\"Pclass\"].max())\n",
        "print(\"SibSp:\", df[\"SibSp\"].min(), \"-\", df[\"SibSp\"].max())\n",
        "print(\"Age:\", df[\"Age\"].min(), \"-\", df[\"Age\"].max())\n",
        "print(\"Parch:\", df[\"Parch\"].min(), \"-\", df[\"Parch\"].max())\n",
        "print(\"Fare:\", df[\"Fare\"].min(), \"-\", df[\"Fare\"].max())"
      ],
      "metadata": {
        "colab": {
          "base_uri": "https://localhost:8080/"
        },
        "id": "jSYB9SC_aDyK",
        "outputId": "ca777275-e583-4276-fda8-f25858a2831e"
      },
      "execution_count": 36,
      "outputs": [
        {
          "output_type": "stream",
          "name": "stdout",
          "text": [
            "PassengerId: 1 - 891\n",
            "Pclass: 1 - 3\n",
            "SibSp: 0 - 8\n",
            "Age: 0.42 - 80.0\n",
            "Parch: 0 - 6\n",
            "Fare: 0.0 - 512.3292\n"
          ]
        }
      ]
    },
    {
      "cell_type": "markdown",
      "source": [
        "Desvio-padrão:"
      ],
      "metadata": {
        "id": "PCUg7bipYat9"
      }
    },
    {
      "cell_type": "code",
      "source": [
        "df[names].std()"
      ],
      "metadata": {
        "colab": {
          "base_uri": "https://localhost:8080/"
        },
        "id": "kR7hD83oW2oo",
        "outputId": "afb44920-8fa8-4463-b350-76586aa7b24c"
      },
      "execution_count": 37,
      "outputs": [
        {
          "output_type": "execute_result",
          "data": {
            "text/plain": [
              "PassengerId    257.353842\n",
              "Pclass           0.836071\n",
              "Age             14.526497\n",
              "SibSp            1.102743\n",
              "Parch            0.806057\n",
              "Fare            49.693429\n",
              "dtype: float64"
            ]
          },
          "metadata": {},
          "execution_count": 37
        }
      ]
    },
    {
      "cell_type": "code",
      "source": [
        "values = df[names].std()\n",
        "plt.bar(names, values)\n",
        "plt.show()"
      ],
      "metadata": {
        "colab": {
          "base_uri": "https://localhost:8080/",
          "height": 0
        },
        "id": "wI_PFa-W0lX6",
        "outputId": "a7a09b33-1c6f-49ba-cf6c-920adffeb3a1"
      },
      "execution_count": 38,
      "outputs": [
        {
          "output_type": "display_data",
          "data": {
            "text/plain": [
              "<Figure size 432x288 with 1 Axes>"
            ],
            "image/png": "[encoded data removed]"
          },
          "metadata": {
            "needs_background": "light"
          }
        }
      ]
    },
    {
      "cell_type": "markdown",
      "source": [
        "Valores aberrantes (outliers): "
      ],
      "metadata": {
        "id": "27bhdchAbeXA"
      }
    },
    {
      "cell_type": "code",
      "source": [
        "df[names].loc[df[names].isnull().any(axis=1)]"
      ],
      "metadata": {
        "colab": {
          "base_uri": "https://localhost:8080/",
          "height": 0
        },
        "id": "Qb6Gl1vzfDLd",
        "outputId": "0c7b92fb-51c3-4bac-940a-d19d33b49b1a"
      },
      "execution_count": 39,
      "outputs": [
        {
          "output_type": "execute_result",
          "data": {
            "text/plain": [
              "     PassengerId  Pclass  Age  SibSp  Parch     Fare\n",
              "5              6       3  NaN      0      0   8.4583\n",
              "17            18       2  NaN      0      0  13.0000\n",
              "19            20       3  NaN      0      0   7.2250\n",
              "26            27       3  NaN      0      0   7.2250\n",
              "28            29       3  NaN      0      0   7.8792\n",
              "..           ...     ...  ...    ...    ...      ...\n",
              "859          860       3  NaN      0      0   7.2292\n",
              "863          864       3  NaN      8      2  69.5500\n",
              "868          869       3  NaN      0      0   9.5000\n",
              "878          879       3  NaN      0      0   7.8958\n",
              "888          889       3  NaN      1      2  23.4500\n",
              "\n",
              "[177 rows x 6 columns]"
            ],
            "text/html": [
              "\n",
              "  <div id=\"df-11b13b5a-41b4-42a1-a42c-8693b5020ca8\">\n",
              "    <div class=\"colab-df-container\">\n",
              "      <div>\n",
              "<style scoped>\n",
              "    .dataframe tbody tr th:only-of-type {\n",
              "        vertical-align: middle;\n",
              "    }\n",
              "\n",
              "    .dataframe tbody tr th {\n",
              "        vertical-align: top;\n",
              "    }\n",
              "\n",
              "    .dataframe thead th {\n",
              "        text-align: right;\n",
              "    }\n",
              "</style>\n",
              "<table border=\"1\" class=\"dataframe\">\n",
              "  <thead>\n",
              "    <tr style=\"text-align: right;\">\n",
              "      <th></th>\n",
              "      <th>PassengerId</th>\n",
              "      <th>Pclass</th>\n",
              "      <th>Age</th>\n",
              "      <th>SibSp</th>\n",
              "      <th>Parch</th>\n",
              "      <th>Fare</th>\n",
              "    </tr>\n",
              "  </thead>\n",
              "  <tbody>\n",
              "    <tr>\n",
              "      <th>5</th>\n",
              "      <td>6</td>\n",
              "      <td>3</td>\n",
              "      <td>NaN</td>\n",
              "      <td>0</td>\n",
              "      <td>0</td>\n",
              "      <td>8.4583</td>\n",
              "    </tr>\n",
              "    <tr>\n",
              "      <th>17</th>\n",
              "      <td>18</td>\n",
              "      <td>2</td>\n",
              "      <td>NaN</td>\n",
              "      <td>0</td>\n",
              "      <td>0</td>\n",
              "      <td>13.0000</td>\n",
              "    </tr>\n",
              "    <tr>\n",
              "      <th>19</th>\n",
              "      <td>20</td>\n",
              "      <td>3</td>\n",
              "      <td>NaN</td>\n",
              "      <td>0</td>\n",
              "      <td>0</td>\n",
              "      <td>7.2250</td>\n",
              "    </tr>\n",
              "    <tr>\n",
              "      <th>26</th>\n",
              "      <td>27</td>\n",
              "      <td>3</td>\n",
              "      <td>NaN</td>\n",
              "      <td>0</td>\n",
              "      <td>0</td>\n",
              "      <td>7.2250</td>\n",
              "    </tr>\n",
              "    <tr>\n",
              "      <th>28</th>\n",
              "      <td>29</td>\n",
              "      <td>3</td>\n",
              "      <td>NaN</td>\n",
              "      <td>0</td>\n",
              "      <td>0</td>\n",
              "      <td>7.8792</td>\n",
              "    </tr>\n",
              "    <tr>\n",
              "      <th>...</th>\n",
              "      <td>...</td>\n",
              "      <td>...</td>\n",
              "      <td>...</td>\n",
              "      <td>...</td>\n",
              "      <td>...</td>\n",
              "      <td>...</td>\n",
              "    </tr>\n",
              "    <tr>\n",
              "      <th>859</th>\n",
              "      <td>860</td>\n",
              "      <td>3</td>\n",
              "      <td>NaN</td>\n",
              "      <td>0</td>\n",
              "      <td>0</td>\n",
              "      <td>7.2292</td>\n",
              "    </tr>\n",
              "    <tr>\n",
              "      <th>863</th>\n",
              "      <td>864</td>\n",
              "      <td>3</td>\n",
              "      <td>NaN</td>\n",
              "      <td>8</td>\n",
              "      <td>2</td>\n",
              "      <td>69.5500</td>\n",
              "    </tr>\n",
              "    <tr>\n",
              "      <th>868</th>\n",
              "      <td>869</td>\n",
              "      <td>3</td>\n",
              "      <td>NaN</td>\n",
              "      <td>0</td>\n",
              "      <td>0</td>\n",
              "      <td>9.5000</td>\n",
              "    </tr>\n",
              "    <tr>\n",
              "      <th>878</th>\n",
              "      <td>879</td>\n",
              "      <td>3</td>\n",
              "      <td>NaN</td>\n",
              "      <td>0</td>\n",
              "      <td>0</td>\n",
              "      <td>7.8958</td>\n",
              "    </tr>\n",
              "    <tr>\n",
              "      <th>888</th>\n",
              "      <td>889</td>\n",
              "      <td>3</td>\n",
              "      <td>NaN</td>\n",
              "      <td>1</td>\n",
              "      <td>2</td>\n",
              "      <td>23.4500</td>\n",
              "    </tr>\n",
              "  </tbody>\n",
              "</table>\n",
              "<p>177 rows × 6 columns</p>\n",
              "</div>\n",
              "      <button class=\"colab-df-convert\" onclick=\"convertToInteractive('df-11b13b5a-41b4-42a1-a42c-8693b5020ca8')\"\n",
              "              title=\"Convert this dataframe to an interactive table.\"\n",
              "              style=\"display:none;\">\n",
              "        \n",
              "  <svg xmlns=\"http://www.w3.org/2000/svg\" height=\"24px\"viewBox=\"0 0 24 24\"\n",
              "       width=\"24px\">\n",
              "    <path d=\"M0 0h24v24H0V0z\" fill=\"none\"/>\n",
              "    <path d=\"M18.56 5.44l.94 2.06.94-2.06 2.06-.94-2.06-.94-.94-2.06-.94 2.06-2.06.94zm-11 1L8.5 8.5l.94-2.06 2.06-.94-2.06-.94L8.5 2.5l-.94 2.06-2.06.94zm10 10l.94 2.06.94-2.06 2.06-.94-2.06-.94-.94-2.06-.94 2.06-2.06.94z\"/><path d=\"M17.41 7.96l-1.37-1.37c-.4-.4-.92-.59-1.43-.59-.52 0-1.04.2-1.43.59L10.3 9.45l-7.72 7.72c-.78.78-.78 2.05 0 2.83L4 21.41c.39.39.9.59 1.41.59.51 0 1.02-.2 1.41-.59l7.78-7.78 2.81-2.81c.8-.78.8-2.07 0-2.86zM5.41 20L4 18.59l7.72-7.72 1.47 1.35L5.41 20z\"/>\n",
              "  </svg>\n",
              "      </button>\n",
              "      \n",
              "  <style>\n",
              "    .colab-df-container {\n",
              "      display:flex;\n",
              "      flex-wrap:wrap;\n",
              "      gap: 12px;\n",
              "    }\n",
              "\n",
              "    .colab-df-convert {\n",
              "      background-color: #E8F0FE;\n",
              "      border: none;\n",
              "      border-radius: 50%;\n",
              "      cursor: pointer;\n",
              "      display: none;\n",
              "      fill: #1967D2;\n",
              "      height: 32px;\n",
              "      padding: 0 0 0 0;\n",
              "      width: 32px;\n",
              "    }\n",
              "\n",
              "    .colab-df-convert:hover {\n",
              "      background-color: #E2EBFA;\n",
              "      box-shadow: 0px 1px 2px rgba(60, 64, 67, 0.3), 0px 1px 3px 1px rgba(60, 64, 67, 0.15);\n",
              "      fill: #174EA6;\n",
              "    }\n",
              "\n",
              "    [theme=dark] .colab-df-convert {\n",
              "      background-color: #3B4455;\n",
              "      fill: #D2E3FC;\n",
              "    }\n",
              "\n",
              "    [theme=dark] .colab-df-convert:hover {\n",
              "      background-color: #434B5C;\n",
              "      box-shadow: 0px 1px 3px 1px rgba(0, 0, 0, 0.15);\n",
              "      filter: drop-shadow(0px 1px 2px rgba(0, 0, 0, 0.3));\n",
              "      fill: #FFFFFF;\n",
              "    }\n",
              "  </style>\n",
              "\n",
              "      <script>\n",
              "        const buttonEl =\n",
              "          document.querySelector('#df-11b13b5a-41b4-42a1-a42c-8693b5020ca8 button.colab-df-convert');\n",
              "        buttonEl.style.display =\n",
              "          google.colab.kernel.accessAllowed ? 'block' : 'none';\n",
              "\n",
              "        async function convertToInteractive(key) {\n",
              "          const element = document.querySelector('#df-11b13b5a-41b4-42a1-a42c-8693b5020ca8');\n",
              "          const dataTable =\n",
              "            await google.colab.kernel.invokeFunction('convertToInteractive',\n",
              "                                                     [key], {});\n",
              "          if (!dataTable) return;\n",
              "\n",
              "          const docLinkHtml = 'Like what you see? Visit the ' +\n",
              "            '<a target=\"_blank\" href=https://colab.research.google.com/notebooks/data_table.ipynb>data table notebook</a>'\n",
              "            + ' to learn more about interactive tables.';\n",
              "          element.innerHTML = '';\n",
              "          dataTable['output_type'] = 'display_data';\n",
              "          await google.colab.output.renderOutput(dataTable, element);\n",
              "          const docLink = document.createElement('div');\n",
              "          docLink.innerHTML = docLinkHtml;\n",
              "          element.appendChild(docLink);\n",
              "        }\n",
              "      </script>\n",
              "    </div>\n",
              "  </div>\n",
              "  "
            ]
          },
          "metadata": {},
          "execution_count": 39
        }
      ]
    },
    {
      "cell_type": "markdown",
      "source": [
        "### Atributos binários\n",
        "\n",
        "- 'Survived':\n",
        "\n",
        "Valores possíveis: 0 (Morreu) e 1 (Sobreviveu)\n",
        "\n",
        "Popularidade de cada:\n"
      ],
      "metadata": {
        "id": "Xp62IcYx1FSs"
      }
    },
    {
      "cell_type": "code",
      "source": [
        "df['Survived'].value_counts()"
      ],
      "metadata": {
        "colab": {
          "base_uri": "https://localhost:8080/"
        },
        "id": "PasLCXQxcsKS",
        "outputId": "84603b46-a468-4b9d-d166-3853e7ab8f33"
      },
      "execution_count": 40,
      "outputs": [
        {
          "output_type": "execute_result",
          "data": {
            "text/plain": [
              "0    549\n",
              "1    342\n",
              "Name: Survived, dtype: int64"
            ]
          },
          "metadata": {},
          "execution_count": 40
        }
      ]
    },
    {
      "cell_type": "markdown",
      "source": [
        "### Valores ausentes, aberrantes e inconsistências\n",
        "\n",
        "**Valores ausentes:**"
      ],
      "metadata": {
        "id": "DQb0Gp7y1KHv"
      }
    },
    {
      "cell_type": "code",
      "source": [
        "df.loc[df.isnull().any(axis=1)]"
      ],
      "metadata": {
        "colab": {
          "base_uri": "https://localhost:8080/",
          "height": 0
        },
        "id": "gVitLSgJdGdJ",
        "outputId": "e4383cee-8482-4b30-b0df-64d5694ba67b"
      },
      "execution_count": 41,
      "outputs": [
        {
          "output_type": "execute_result",
          "data": {
            "text/plain": [
              "     PassengerId  Survived  Pclass                                      Name  \\\n",
              "0              1         0       3                   Braund, Mr. Owen Harris   \n",
              "2              3         1       3                    Heikkinen, Miss. Laina   \n",
              "4              5         0       3                  Allen, Mr. William Henry   \n",
              "5              6         0       3                          Moran, Mr. James   \n",
              "7              8         0       3            Palsson, Master. Gosta Leonard   \n",
              "..           ...       ...     ...                                       ...   \n",
              "884          885         0       3                    Sutehall, Mr. Henry Jr   \n",
              "885          886         0       3      Rice, Mrs. William (Margaret Norton)   \n",
              "886          887         0       2                     Montvila, Rev. Juozas   \n",
              "888          889         0       3  Johnston, Miss. Catherine Helen \"Carrie\"   \n",
              "890          891         0       3                       Dooley, Mr. Patrick   \n",
              "\n",
              "        Sex   Age  SibSp  Parch            Ticket     Fare Cabin Embarked  \n",
              "0      male  22.0      1      0         A/5 21171   7.2500   NaN        S  \n",
              "2    female  26.0      0      0  STON/O2. 3101282   7.9250   NaN        S  \n",
              "4      male  35.0      0      0            373450   8.0500   NaN        S  \n",
              "5      male   NaN      0      0            330877   8.4583   NaN        Q  \n",
              "7      male   2.0      3      1            349909  21.0750   NaN        S  \n",
              "..      ...   ...    ...    ...               ...      ...   ...      ...  \n",
              "884    male  25.0      0      0   SOTON/OQ 392076   7.0500   NaN        S  \n",
              "885  female  39.0      0      5            382652  29.1250   NaN        Q  \n",
              "886    male  27.0      0      0            211536  13.0000   NaN        S  \n",
              "888  female   NaN      1      2        W./C. 6607  23.4500   NaN        S  \n",
              "890    male  32.0      0      0            370376   7.7500   NaN        Q  \n",
              "\n",
              "[708 rows x 12 columns]"
            ],
            "text/html": [
              "\n",
              "  <div id=\"df-7179daf4-97ae-475e-b590-d8322ca9583b\">\n",
              "    <div class=\"colab-df-container\">\n",
              "      <div>\n",
              "<style scoped>\n",
              "    .dataframe tbody tr th:only-of-type {\n",
              "        vertical-align: middle;\n",
              "    }\n",
              "\n",
              "    .dataframe tbody tr th {\n",
              "        vertical-align: top;\n",
              "    }\n",
              "\n",
              "    .dataframe thead th {\n",
              "        text-align: right;\n",
              "    }\n",
              "</style>\n",
              "<table border=\"1\" class=\"dataframe\">\n",
              "  <thead>\n",
              "    <tr style=\"text-align: right;\">\n",
              "      <th></th>\n",
              "      <th>PassengerId</th>\n",
              "      <th>Survived</th>\n",
              "      <th>Pclass</th>\n",
              "      <th>Name</th>\n",
              "      <th>Sex</th>\n",
              "      <th>Age</th>\n",
              "      <th>SibSp</th>\n",
              "      <th>Parch</th>\n",
              "      <th>Ticket</th>\n",
              "      <th>Fare</th>\n",
              "      <th>Cabin</th>\n",
              "      <th>Embarked</th>\n",
              "    </tr>\n",
              "  </thead>\n",
              "  <tbody>\n",
              "    <tr>\n",
              "      <th>0</th>\n",
              "      <td>1</td>\n",
              "      <td>0</td>\n",
              "      <td>3</td>\n",
              "      <td>Braund, Mr. Owen Harris</td>\n",
              "      <td>male</td>\n",
              "      <td>22.0</td>\n",
              "      <td>1</td>\n",
              "      <td>0</td>\n",
              "      <td>A/5 21171</td>\n",
              "      <td>7.2500</td>\n",
              "      <td>NaN</td>\n",
              "      <td>S</td>\n",
              "    </tr>\n",
              "    <tr>\n",
              "      <th>2</th>\n",
              "      <td>3</td>\n",
              "      <td>1</td>\n",
              "      <td>3</td>\n",
              "      <td>Heikkinen, Miss. Laina</td>\n",
              "      <td>female</td>\n",
              "      <td>26.0</td>\n",
              "      <td>0</td>\n",
              "      <td>0</td>\n",
              "      <td>STON/O2. 3101282</td>\n",
              "      <td>7.9250</td>\n",
              "      <td>NaN</td>\n",
              "      <td>S</td>\n",
              "    </tr>\n",
              "    <tr>\n",
              "      <th>4</th>\n",
              "      <td>5</td>\n",
              "      <td>0</td>\n",
              "      <td>3</td>\n",
              "      <td>Allen, Mr. William Henry</td>\n",
              "      <td>male</td>\n",
              "      <td>35.0</td>\n",
              "      <td>0</td>\n",
              "      <td>0</td>\n",
              "      <td>373450</td>\n",
              "      <td>8.0500</td>\n",
              "      <td>NaN</td>\n",
              "      <td>S</td>\n",
              "    </tr>\n",
              "    <tr>\n",
              "      <th>5</th>\n",
              "      <td>6</td>\n",
              "      <td>0</td>\n",
              "      <td>3</td>\n",
              "      <td>Moran, Mr. James</td>\n",
              "      <td>male</td>\n",
              "      <td>NaN</td>\n",
              "      <td>0</td>\n",
              "      <td>0</td>\n",
              "      <td>330877</td>\n",
              "      <td>8.4583</td>\n",
              "      <td>NaN</td>\n",
              "      <td>Q</td>\n",
              "    </tr>\n",
              "    <tr>\n",
              "      <th>7</th>\n",
              "      <td>8</td>\n",
              "      <td>0</td>\n",
              "      <td>3</td>\n",
              "      <td>Palsson, Master. Gosta Leonard</td>\n",
              "      <td>male</td>\n",
              "      <td>2.0</td>\n",
              "      <td>3</td>\n",
              "      <td>1</td>\n",
              "      <td>349909</td>\n",
              "      <td>21.0750</td>\n",
              "      <td>NaN</td>\n",
              "      <td>S</td>\n",
              "    </tr>\n",
              "    <tr>\n",
              "      <th>...</th>\n",
              "      <td>...</td>\n",
              "      <td>...</td>\n",
              "      <td>...</td>\n",
              "      <td>...</td>\n",
              "      <td>...</td>\n",
              "      <td>...</td>\n",
              "      <td>...</td>\n",
              "      <td>...</td>\n",
              "      <td>...</td>\n",
              "      <td>...</td>\n",
              "      <td>...</td>\n",
              "      <td>...</td>\n",
              "    </tr>\n",
              "    <tr>\n",
              "      <th>884</th>\n",
              "      <td>885</td>\n",
              "      <td>0</td>\n",
              "      <td>3</td>\n",
              "      <td>Sutehall, Mr. Henry Jr</td>\n",
              "      <td>male</td>\n",
              "      <td>25.0</td>\n",
              "      <td>0</td>\n",
              "      <td>0</td>\n",
              "      <td>SOTON/OQ 392076</td>\n",
              "      <td>7.0500</td>\n",
              "      <td>NaN</td>\n",
              "      <td>S</td>\n",
              "    </tr>\n",
              "    <tr>\n",
              "      <th>885</th>\n",
              "      <td>886</td>\n",
              "      <td>0</td>\n",
              "      <td>3</td>\n",
              "      <td>Rice, Mrs. William (Margaret Norton)</td>\n",
              "      <td>female</td>\n",
              "      <td>39.0</td>\n",
              "      <td>0</td>\n",
              "      <td>5</td>\n",
              "      <td>382652</td>\n",
              "      <td>29.1250</td>\n",
              "      <td>NaN</td>\n",
              "      <td>Q</td>\n",
              "    </tr>\n",
              "    <tr>\n",
              "      <th>886</th>\n",
              "      <td>887</td>\n",
              "      <td>0</td>\n",
              "      <td>2</td>\n",
              "      <td>Montvila, Rev. Juozas</td>\n",
              "      <td>male</td>\n",
              "      <td>27.0</td>\n",
              "      <td>0</td>\n",
              "      <td>0</td>\n",
              "      <td>211536</td>\n",
              "      <td>13.0000</td>\n",
              "      <td>NaN</td>\n",
              "      <td>S</td>\n",
              "    </tr>\n",
              "    <tr>\n",
              "      <th>888</th>\n",
              "      <td>889</td>\n",
              "      <td>0</td>\n",
              "      <td>3</td>\n",
              "      <td>Johnston, Miss. Catherine Helen \"Carrie\"</td>\n",
              "      <td>female</td>\n",
              "      <td>NaN</td>\n",
              "      <td>1</td>\n",
              "      <td>2</td>\n",
              "      <td>W./C. 6607</td>\n",
              "      <td>23.4500</td>\n",
              "      <td>NaN</td>\n",
              "      <td>S</td>\n",
              "    </tr>\n",
              "    <tr>\n",
              "      <th>890</th>\n",
              "      <td>891</td>\n",
              "      <td>0</td>\n",
              "      <td>3</td>\n",
              "      <td>Dooley, Mr. Patrick</td>\n",
              "      <td>male</td>\n",
              "      <td>32.0</td>\n",
              "      <td>0</td>\n",
              "      <td>0</td>\n",
              "      <td>370376</td>\n",
              "      <td>7.7500</td>\n",
              "      <td>NaN</td>\n",
              "      <td>Q</td>\n",
              "    </tr>\n",
              "  </tbody>\n",
              "</table>\n",
              "<p>708 rows × 12 columns</p>\n",
              "</div>\n",
              "      <button class=\"colab-df-convert\" onclick=\"convertToInteractive('df-7179daf4-97ae-475e-b590-d8322ca9583b')\"\n",
              "              title=\"Convert this dataframe to an interactive table.\"\n",
              "              style=\"display:none;\">\n",
              "        \n",
              "  <svg xmlns=\"http://www.w3.org/2000/svg\" height=\"24px\"viewBox=\"0 0 24 24\"\n",
              "       width=\"24px\">\n",
              "    <path d=\"M0 0h24v24H0V0z\" fill=\"none\"/>\n",
              "    <path d=\"M18.56 5.44l.94 2.06.94-2.06 2.06-.94-2.06-.94-.94-2.06-.94 2.06-2.06.94zm-11 1L8.5 8.5l.94-2.06 2.06-.94-2.06-.94L8.5 2.5l-.94 2.06-2.06.94zm10 10l.94 2.06.94-2.06 2.06-.94-2.06-.94-.94-2.06-.94 2.06-2.06.94z\"/><path d=\"M17.41 7.96l-1.37-1.37c-.4-.4-.92-.59-1.43-.59-.52 0-1.04.2-1.43.59L10.3 9.45l-7.72 7.72c-.78.78-.78 2.05 0 2.83L4 21.41c.39.39.9.59 1.41.59.51 0 1.02-.2 1.41-.59l7.78-7.78 2.81-2.81c.8-.78.8-2.07 0-2.86zM5.41 20L4 18.59l7.72-7.72 1.47 1.35L5.41 20z\"/>\n",
              "  </svg>\n",
              "      </button>\n",
              "      \n",
              "  <style>\n",
              "    .colab-df-container {\n",
              "      display:flex;\n",
              "      flex-wrap:wrap;\n",
              "      gap: 12px;\n",
              "    }\n",
              "\n",
              "    .colab-df-convert {\n",
              "      background-color: #E8F0FE;\n",
              "      border: none;\n",
              "      border-radius: 50%;\n",
              "      cursor: pointer;\n",
              "      display: none;\n",
              "      fill: #1967D2;\n",
              "      height: 32px;\n",
              "      padding: 0 0 0 0;\n",
              "      width: 32px;\n",
              "    }\n",
              "\n",
              "    .colab-df-convert:hover {\n",
              "      background-color: #E2EBFA;\n",
              "      box-shadow: 0px 1px 2px rgba(60, 64, 67, 0.3), 0px 1px 3px 1px rgba(60, 64, 67, 0.15);\n",
              "      fill: #174EA6;\n",
              "    }\n",
              "\n",
              "    [theme=dark] .colab-df-convert {\n",
              "      background-color: #3B4455;\n",
              "      fill: #D2E3FC;\n",
              "    }\n",
              "\n",
              "    [theme=dark] .colab-df-convert:hover {\n",
              "      background-color: #434B5C;\n",
              "      box-shadow: 0px 1px 3px 1px rgba(0, 0, 0, 0.15);\n",
              "      filter: drop-shadow(0px 1px 2px rgba(0, 0, 0, 0.3));\n",
              "      fill: #FFFFFF;\n",
              "    }\n",
              "  </style>\n",
              "\n",
              "      <script>\n",
              "        const buttonEl =\n",
              "          document.querySelector('#df-7179daf4-97ae-475e-b590-d8322ca9583b button.colab-df-convert');\n",
              "        buttonEl.style.display =\n",
              "          google.colab.kernel.accessAllowed ? 'block' : 'none';\n",
              "\n",
              "        async function convertToInteractive(key) {\n",
              "          const element = document.querySelector('#df-7179daf4-97ae-475e-b590-d8322ca9583b');\n",
              "          const dataTable =\n",
              "            await google.colab.kernel.invokeFunction('convertToInteractive',\n",
              "                                                     [key], {});\n",
              "          if (!dataTable) return;\n",
              "\n",
              "          const docLinkHtml = 'Like what you see? Visit the ' +\n",
              "            '<a target=\"_blank\" href=https://colab.research.google.com/notebooks/data_table.ipynb>data table notebook</a>'\n",
              "            + ' to learn more about interactive tables.';\n",
              "          element.innerHTML = '';\n",
              "          dataTable['output_type'] = 'display_data';\n",
              "          await google.colab.output.renderOutput(dataTable, element);\n",
              "          const docLink = document.createElement('div');\n",
              "          docLink.innerHTML = docLinkHtml;\n",
              "          element.appendChild(docLink);\n",
              "        }\n",
              "      </script>\n",
              "    </div>\n",
              "  </div>\n",
              "  "
            ]
          },
          "metadata": {},
          "execution_count": 41
        }
      ]
    },
    {
      "cell_type": "markdown",
      "source": [
        "Apenas os atributos de 'Age' e 'Cabin' apresentam atributos ausentes."
      ],
      "metadata": {
        "id": "L_6VKOX4yzYu"
      }
    },
    {
      "cell_type": "markdown",
      "source": [
        "**Valores aberrantes:**\n",
        "\n",
        "Abaixo, tem-se que os valores aberrantes referentes a idade ('Age') estão acima dos 60 anos:"
      ],
      "metadata": {
        "id": "0egI8nH43UaW"
      }
    },
    {
      "cell_type": "code",
      "source": [
        "sns.boxplot(x=df['Age'])"
      ],
      "metadata": {
        "colab": {
          "base_uri": "https://localhost:8080/",
          "height": 0
        },
        "id": "_rtWXquz1unl",
        "outputId": "33e5e15f-8bfd-4ac8-9bfb-8a14186dd3e3"
      },
      "execution_count": 42,
      "outputs": [
        {
          "output_type": "execute_result",
          "data": {
            "text/plain": [
              "<matplotlib.axes._subplots.AxesSubplot at 0x7f0d90f36750>"
            ]
          },
          "metadata": {},
          "execution_count": 42
        },
        {
          "output_type": "display_data",
          "data": {
            "text/plain": [
              "<Figure size 432x288 with 1 Axes>"
            ],
            "image/png": "[encoded data removed]"
          },
          "metadata": {
            "needs_background": "light"
          }
        }
      ]
    },
    {
      "cell_type": "markdown",
      "source": [
        "Abaixo, tem-se que os valores aberrantes referentes ao preço da passagem ('Fare') estão acima de 100 mil:"
      ],
      "metadata": {
        "id": "s2Jzzmz33jnX"
      }
    },
    {
      "cell_type": "code",
      "source": [
        "sns.boxplot(x=df['Fare'])"
      ],
      "metadata": {
        "colab": {
          "base_uri": "https://localhost:8080/",
          "height": 0
        },
        "id": "5KJs6K-H3cKO",
        "outputId": "4e8ffec8-924f-4f8a-f9df-b712f8fd6424"
      },
      "execution_count": 43,
      "outputs": [
        {
          "output_type": "execute_result",
          "data": {
            "text/plain": [
              "<matplotlib.axes._subplots.AxesSubplot at 0x7f0d90fbc650>"
            ]
          },
          "metadata": {},
          "execution_count": 43
        },
        {
          "output_type": "display_data",
          "data": {
            "text/plain": [
              "<Figure size 432x288 with 1 Axes>"
            ],
            "image/png": "[encoded data removed]"
          },
          "metadata": {
            "needs_background": "light"
          }
        }
      ]
    },
    {
      "cell_type": "markdown",
      "source": [
        "### Correlação entre os atributos\n",
        "\n",
        "Através do método de Pearson:"
      ],
      "metadata": {
        "id": "J5EioYk_1KWb"
      }
    },
    {
      "cell_type": "code",
      "source": [
        "df.corr('pearson')"
      ],
      "metadata": {
        "colab": {
          "base_uri": "https://localhost:8080/",
          "height": 269
        },
        "id": "53H2zpFAfqcV",
        "outputId": "22c19eb2-3c40-4a36-85a9-29d0c78ca768"
      },
      "execution_count": 44,
      "outputs": [
        {
          "output_type": "execute_result",
          "data": {
            "text/plain": [
              "             PassengerId  Survived    Pclass       Age     SibSp     Parch  \\\n",
              "PassengerId     1.000000 -0.005007 -0.035144  0.036847 -0.057527 -0.001652   \n",
              "Survived       -0.005007  1.000000 -0.338481 -0.077221 -0.035322  0.081629   \n",
              "Pclass         -0.035144 -0.338481  1.000000 -0.369226  0.083081  0.018443   \n",
              "Age             0.036847 -0.077221 -0.369226  1.000000 -0.308247 -0.189119   \n",
              "SibSp          -0.057527 -0.035322  0.083081 -0.308247  1.000000  0.414838   \n",
              "Parch          -0.001652  0.081629  0.018443 -0.189119  0.414838  1.000000   \n",
              "Fare            0.012658  0.257307 -0.549500  0.096067  0.159651  0.216225   \n",
              "\n",
              "                 Fare  \n",
              "PassengerId  0.012658  \n",
              "Survived     0.257307  \n",
              "Pclass      -0.549500  \n",
              "Age          0.096067  \n",
              "SibSp        0.159651  \n",
              "Parch        0.216225  \n",
              "Fare         1.000000  "
            ],
            "text/html": [
              "\n",
              "  <div id=\"df-75627e6e-01ac-4aa0-98fd-73aa2f86df82\">\n",
              "    <div class=\"colab-df-container\">\n",
              "      <div>\n",
              "<style scoped>\n",
              "    .dataframe tbody tr th:only-of-type {\n",
              "        vertical-align: middle;\n",
              "    }\n",
              "\n",
              "    .dataframe tbody tr th {\n",
              "        vertical-align: top;\n",
              "    }\n",
              "\n",
              "    .dataframe thead th {\n",
              "        text-align: right;\n",
              "    }\n",
              "</style>\n",
              "<table border=\"1\" class=\"dataframe\">\n",
              "  <thead>\n",
              "    <tr style=\"text-align: right;\">\n",
              "      <th></th>\n",
              "      <th>PassengerId</th>\n",
              "      <th>Survived</th>\n",
              "      <th>Pclass</th>\n",
              "      <th>Age</th>\n",
              "      <th>SibSp</th>\n",
              "      <th>Parch</th>\n",
              "      <th>Fare</th>\n",
              "    </tr>\n",
              "  </thead>\n",
              "  <tbody>\n",
              "    <tr>\n",
              "      <th>PassengerId</th>\n",
              "      <td>1.000000</td>\n",
              "      <td>-0.005007</td>\n",
              "      <td>-0.035144</td>\n",
              "      <td>0.036847</td>\n",
              "      <td>-0.057527</td>\n",
              "      <td>-0.001652</td>\n",
              "      <td>0.012658</td>\n",
              "    </tr>\n",
              "    <tr>\n",
              "      <th>Survived</th>\n",
              "      <td>-0.005007</td>\n",
              "      <td>1.000000</td>\n",
              "      <td>-0.338481</td>\n",
              "      <td>-0.077221</td>\n",
              "      <td>-0.035322</td>\n",
              "      <td>0.081629</td>\n",
              "      <td>0.257307</td>\n",
              "    </tr>\n",
              "    <tr>\n",
              "      <th>Pclass</th>\n",
              "      <td>-0.035144</td>\n",
              "      <td>-0.338481</td>\n",
              "      <td>1.000000</td>\n",
              "      <td>-0.369226</td>\n",
              "      <td>0.083081</td>\n",
              "      <td>0.018443</td>\n",
              "      <td>-0.549500</td>\n",
              "    </tr>\n",
              "    <tr>\n",
              "      <th>Age</th>\n",
              "      <td>0.036847</td>\n",
              "      <td>-0.077221</td>\n",
              "      <td>-0.369226</td>\n",
              "      <td>1.000000</td>\n",
              "      <td>-0.308247</td>\n",
              "      <td>-0.189119</td>\n",
              "      <td>0.096067</td>\n",
              "    </tr>\n",
              "    <tr>\n",
              "      <th>SibSp</th>\n",
              "      <td>-0.057527</td>\n",
              "      <td>-0.035322</td>\n",
              "      <td>0.083081</td>\n",
              "      <td>-0.308247</td>\n",
              "      <td>1.000000</td>\n",
              "      <td>0.414838</td>\n",
              "      <td>0.159651</td>\n",
              "    </tr>\n",
              "    <tr>\n",
              "      <th>Parch</th>\n",
              "      <td>-0.001652</td>\n",
              "      <td>0.081629</td>\n",
              "      <td>0.018443</td>\n",
              "      <td>-0.189119</td>\n",
              "      <td>0.414838</td>\n",
              "      <td>1.000000</td>\n",
              "      <td>0.216225</td>\n",
              "    </tr>\n",
              "    <tr>\n",
              "      <th>Fare</th>\n",
              "      <td>0.012658</td>\n",
              "      <td>0.257307</td>\n",
              "      <td>-0.549500</td>\n",
              "      <td>0.096067</td>\n",
              "      <td>0.159651</td>\n",
              "      <td>0.216225</td>\n",
              "      <td>1.000000</td>\n",
              "    </tr>\n",
              "  </tbody>\n",
              "</table>\n",
              "</div>\n",
              "      <button class=\"colab-df-convert\" onclick=\"convertToInteractive('df-75627e6e-01ac-4aa0-98fd-73aa2f86df82')\"\n",
              "              title=\"Convert this dataframe to an interactive table.\"\n",
              "              style=\"display:none;\">\n",
              "        \n",
              "  <svg xmlns=\"http://www.w3.org/2000/svg\" height=\"24px\"viewBox=\"0 0 24 24\"\n",
              "       width=\"24px\">\n",
              "    <path d=\"M0 0h24v24H0V0z\" fill=\"none\"/>\n",
              "    <path d=\"M18.56 5.44l.94 2.06.94-2.06 2.06-.94-2.06-.94-.94-2.06-.94 2.06-2.06.94zm-11 1L8.5 8.5l.94-2.06 2.06-.94-2.06-.94L8.5 2.5l-.94 2.06-2.06.94zm10 10l.94 2.06.94-2.06 2.06-.94-2.06-.94-.94-2.06-.94 2.06-2.06.94z\"/><path d=\"M17.41 7.96l-1.37-1.37c-.4-.4-.92-.59-1.43-.59-.52 0-1.04.2-1.43.59L10.3 9.45l-7.72 7.72c-.78.78-.78 2.05 0 2.83L4 21.41c.39.39.9.59 1.41.59.51 0 1.02-.2 1.41-.59l7.78-7.78 2.81-2.81c.8-.78.8-2.07 0-2.86zM5.41 20L4 18.59l7.72-7.72 1.47 1.35L5.41 20z\"/>\n",
              "  </svg>\n",
              "      </button>\n",
              "      \n",
              "  <style>\n",
              "    .colab-df-container {\n",
              "      display:flex;\n",
              "      flex-wrap:wrap;\n",
              "      gap: 12px;\n",
              "    }\n",
              "\n",
              "    .colab-df-convert {\n",
              "      background-color: #E8F0FE;\n",
              "      border: none;\n",
              "      border-radius: 50%;\n",
              "      cursor: pointer;\n",
              "      display: none;\n",
              "      fill: #1967D2;\n",
              "      height: 32px;\n",
              "      padding: 0 0 0 0;\n",
              "      width: 32px;\n",
              "    }\n",
              "\n",
              "    .colab-df-convert:hover {\n",
              "      background-color: #E2EBFA;\n",
              "      box-shadow: 0px 1px 2px rgba(60, 64, 67, 0.3), 0px 1px 3px 1px rgba(60, 64, 67, 0.15);\n",
              "      fill: #174EA6;\n",
              "    }\n",
              "\n",
              "    [theme=dark] .colab-df-convert {\n",
              "      background-color: #3B4455;\n",
              "      fill: #D2E3FC;\n",
              "    }\n",
              "\n",
              "    [theme=dark] .colab-df-convert:hover {\n",
              "      background-color: #434B5C;\n",
              "      box-shadow: 0px 1px 3px 1px rgba(0, 0, 0, 0.15);\n",
              "      filter: drop-shadow(0px 1px 2px rgba(0, 0, 0, 0.3));\n",
              "      fill: #FFFFFF;\n",
              "    }\n",
              "  </style>\n",
              "\n",
              "      <script>\n",
              "        const buttonEl =\n",
              "          document.querySelector('#df-75627e6e-01ac-4aa0-98fd-73aa2f86df82 button.colab-df-convert');\n",
              "        buttonEl.style.display =\n",
              "          google.colab.kernel.accessAllowed ? 'block' : 'none';\n",
              "\n",
              "        async function convertToInteractive(key) {\n",
              "          const element = document.querySelector('#df-75627e6e-01ac-4aa0-98fd-73aa2f86df82');\n",
              "          const dataTable =\n",
              "            await google.colab.kernel.invokeFunction('convertToInteractive',\n",
              "                                                     [key], {});\n",
              "          if (!dataTable) return;\n",
              "\n",
              "          const docLinkHtml = 'Like what you see? Visit the ' +\n",
              "            '<a target=\"_blank\" href=https://colab.research.google.com/notebooks/data_table.ipynb>data table notebook</a>'\n",
              "            + ' to learn more about interactive tables.';\n",
              "          element.innerHTML = '';\n",
              "          dataTable['output_type'] = 'display_data';\n",
              "          await google.colab.output.renderOutput(dataTable, element);\n",
              "          const docLink = document.createElement('div');\n",
              "          docLink.innerHTML = docLinkHtml;\n",
              "          element.appendChild(docLink);\n",
              "        }\n",
              "      </script>\n",
              "    </div>\n",
              "  </div>\n",
              "  "
            ]
          },
          "metadata": {},
          "execution_count": 44
        }
      ]
    },
    {
      "cell_type": "markdown",
      "source": [
        "Nota-se que há correlações entre 'Pclass' e 'Fare' e 'SibSp' e 'Parch'. Em menor grau, há correlações entre 'Survived' e 'Fare' e 'SibSp' e 'Age'. Com base na tabela de correlações, podemos deduzir que quanto mais próximo de 1 maior é a correlação seja positiva ou negativa.\n",
        "\n",
        "Como no exemplo abaixo sobre a relação de idade e sobrevivência, quanto mais velho menor é a chance dessa pessoa sobreviver:"
      ],
      "metadata": {
        "id": "yJa2G3bwgnju"
      }
    },
    {
      "cell_type": "code",
      "source": [
        "df[['Age', 'Survived']].corr('pearson')"
      ],
      "metadata": {
        "colab": {
          "base_uri": "https://localhost:8080/",
          "height": 112
        },
        "id": "MFBs5FHQgcto",
        "outputId": "ec528e4b-2413-45e8-fd2d-de1f6270978a"
      },
      "execution_count": 45,
      "outputs": [
        {
          "output_type": "execute_result",
          "data": {
            "text/plain": [
              "               Age  Survived\n",
              "Age       1.000000 -0.077221\n",
              "Survived -0.077221  1.000000"
            ],
            "text/html": [
              "\n",
              "  <div id=\"df-23158140-6090-4253-bd8f-fe819b260157\">\n",
              "    <div class=\"colab-df-container\">\n",
              "      <div>\n",
              "<style scoped>\n",
              "    .dataframe tbody tr th:only-of-type {\n",
              "        vertical-align: middle;\n",
              "    }\n",
              "\n",
              "    .dataframe tbody tr th {\n",
              "        vertical-align: top;\n",
              "    }\n",
              "\n",
              "    .dataframe thead th {\n",
              "        text-align: right;\n",
              "    }\n",
              "</style>\n",
              "<table border=\"1\" class=\"dataframe\">\n",
              "  <thead>\n",
              "    <tr style=\"text-align: right;\">\n",
              "      <th></th>\n",
              "      <th>Age</th>\n",
              "      <th>Survived</th>\n",
              "    </tr>\n",
              "  </thead>\n",
              "  <tbody>\n",
              "    <tr>\n",
              "      <th>Age</th>\n",
              "      <td>1.000000</td>\n",
              "      <td>-0.077221</td>\n",
              "    </tr>\n",
              "    <tr>\n",
              "      <th>Survived</th>\n",
              "      <td>-0.077221</td>\n",
              "      <td>1.000000</td>\n",
              "    </tr>\n",
              "  </tbody>\n",
              "</table>\n",
              "</div>\n",
              "      <button class=\"colab-df-convert\" onclick=\"convertToInteractive('df-23158140-6090-4253-bd8f-fe819b260157')\"\n",
              "              title=\"Convert this dataframe to an interactive table.\"\n",
              "              style=\"display:none;\">\n",
              "        \n",
              "  <svg xmlns=\"http://www.w3.org/2000/svg\" height=\"24px\"viewBox=\"0 0 24 24\"\n",
              "       width=\"24px\">\n",
              "    <path d=\"M0 0h24v24H0V0z\" fill=\"none\"/>\n",
              "    <path d=\"M18.56 5.44l.94 2.06.94-2.06 2.06-.94-2.06-.94-.94-2.06-.94 2.06-2.06.94zm-11 1L8.5 8.5l.94-2.06 2.06-.94-2.06-.94L8.5 2.5l-.94 2.06-2.06.94zm10 10l.94 2.06.94-2.06 2.06-.94-2.06-.94-.94-2.06-.94 2.06-2.06.94z\"/><path d=\"M17.41 7.96l-1.37-1.37c-.4-.4-.92-.59-1.43-.59-.52 0-1.04.2-1.43.59L10.3 9.45l-7.72 7.72c-.78.78-.78 2.05 0 2.83L4 21.41c.39.39.9.59 1.41.59.51 0 1.02-.2 1.41-.59l7.78-7.78 2.81-2.81c.8-.78.8-2.07 0-2.86zM5.41 20L4 18.59l7.72-7.72 1.47 1.35L5.41 20z\"/>\n",
              "  </svg>\n",
              "      </button>\n",
              "      \n",
              "  <style>\n",
              "    .colab-df-container {\n",
              "      display:flex;\n",
              "      flex-wrap:wrap;\n",
              "      gap: 12px;\n",
              "    }\n",
              "\n",
              "    .colab-df-convert {\n",
              "      background-color: #E8F0FE;\n",
              "      border: none;\n",
              "      border-radius: 50%;\n",
              "      cursor: pointer;\n",
              "      display: none;\n",
              "      fill: #1967D2;\n",
              "      height: 32px;\n",
              "      padding: 0 0 0 0;\n",
              "      width: 32px;\n",
              "    }\n",
              "\n",
              "    .colab-df-convert:hover {\n",
              "      background-color: #E2EBFA;\n",
              "      box-shadow: 0px 1px 2px rgba(60, 64, 67, 0.3), 0px 1px 3px 1px rgba(60, 64, 67, 0.15);\n",
              "      fill: #174EA6;\n",
              "    }\n",
              "\n",
              "    [theme=dark] .colab-df-convert {\n",
              "      background-color: #3B4455;\n",
              "      fill: #D2E3FC;\n",
              "    }\n",
              "\n",
              "    [theme=dark] .colab-df-convert:hover {\n",
              "      background-color: #434B5C;\n",
              "      box-shadow: 0px 1px 3px 1px rgba(0, 0, 0, 0.15);\n",
              "      filter: drop-shadow(0px 1px 2px rgba(0, 0, 0, 0.3));\n",
              "      fill: #FFFFFF;\n",
              "    }\n",
              "  </style>\n",
              "\n",
              "      <script>\n",
              "        const buttonEl =\n",
              "          document.querySelector('#df-23158140-6090-4253-bd8f-fe819b260157 button.colab-df-convert');\n",
              "        buttonEl.style.display =\n",
              "          google.colab.kernel.accessAllowed ? 'block' : 'none';\n",
              "\n",
              "        async function convertToInteractive(key) {\n",
              "          const element = document.querySelector('#df-23158140-6090-4253-bd8f-fe819b260157');\n",
              "          const dataTable =\n",
              "            await google.colab.kernel.invokeFunction('convertToInteractive',\n",
              "                                                     [key], {});\n",
              "          if (!dataTable) return;\n",
              "\n",
              "          const docLinkHtml = 'Like what you see? Visit the ' +\n",
              "            '<a target=\"_blank\" href=https://colab.research.google.com/notebooks/data_table.ipynb>data table notebook</a>'\n",
              "            + ' to learn more about interactive tables.';\n",
              "          element.innerHTML = '';\n",
              "          dataTable['output_type'] = 'display_data';\n",
              "          await google.colab.output.renderOutput(dataTable, element);\n",
              "          const docLink = document.createElement('div');\n",
              "          docLink.innerHTML = docLinkHtml;\n",
              "          element.appendChild(docLink);\n",
              "        }\n",
              "      </script>\n",
              "    </div>\n",
              "  </div>\n",
              "  "
            ]
          },
          "metadata": {},
          "execution_count": 45
        }
      ]
    },
    {
      "cell_type": "markdown",
      "source": [
        "## Limpeza e Transformação dos dados"
      ],
      "metadata": {
        "id": "h-eRPJNMrZ-8"
      }
    },
    {
      "cell_type": "markdown",
      "source": [
        "### Transformação, remoção de dados e Preenchimento dos valores ausentes\n",
        "\n",
        "Antes de remover dados e preencher aqueles com valores nulos, cria-se um novo atributo chamado 'Tag' responsável pelos pronomes de tratamento que se encontram no atributo 'Name'. Além disso, considerando que alguns desses pronomes não são comuns, eles são agrupados em um único grupo ('Unusual'), enquanto outros são modificados para uma versão mais comum (por exemplo, \"Mlee\" pode ser substituído por \"Miss\").\n",
        "\n",
        "Por fim, observa-se que os atributos referentes a 'Name' e 'PassengerId' são desnecessários, e podem ser retirados do dataset."
      ],
      "metadata": {
        "id": "_hCHAsnfrXOZ"
      }
    },
    {
      "cell_type": "code",
      "source": [
        "# Fazendo uma cópia para não alterar os valores originais\n",
        "dfCopia = df.copy()\n",
        "\n",
        "# Obtendo o atributo Tag\n",
        "dfCopia['Tag'] = dfCopia.Name.str.extract(' ([A-Za-z]+)\\.', expand=False)\n",
        "\n",
        "# Agrupando pronomes não comuns\n",
        "dfCopia['Tag'] = dfCopia['Tag'].replace(['Lady', 'Countess','Capt', 'Col',\\\n",
        " \t'Don', 'Dr', 'Major', 'Rev', 'Sir', 'Jonkheer', 'Dona'], 'Unusual')\n",
        "\n",
        "# Substituindo pronomes por versões mais comuns\n",
        "dfCopia['Tag'] = dfCopia['Tag'].replace('Mlle', 'Miss')\n",
        "dfCopia['Tag'] = dfCopia['Tag'].replace('Ms', 'Miss')\n",
        "dfCopia['Tag'] = dfCopia['Tag'].replace('Mme', 'Mrs')\n",
        "\n",
        "# Removendo os atributos Name e PassengerId\n",
        "dfCopia = dfCopia.drop(['Name'], axis=1)\n",
        "dfCopia = dfCopia.drop(['PassengerId'], axis=1)\n",
        "\n",
        "# Quantidade total de valores nulos para cada atributo\n",
        "dfCopia.isnull().sum()"
      ],
      "metadata": {
        "colab": {
          "base_uri": "https://localhost:8080/"
        },
        "id": "ya7b9KDkrlDU",
        "outputId": "0057aaf9-09c6-4910-a20e-e3fc120d9451"
      },
      "execution_count": 46,
      "outputs": [
        {
          "output_type": "execute_result",
          "data": {
            "text/plain": [
              "Survived      0\n",
              "Pclass        0\n",
              "Sex           0\n",
              "Age         177\n",
              "SibSp         0\n",
              "Parch         0\n",
              "Ticket        0\n",
              "Fare          0\n",
              "Cabin       687\n",
              "Embarked      2\n",
              "Tag           0\n",
              "dtype: int64"
            ]
          },
          "metadata": {},
          "execution_count": 46
        }
      ]
    },
    {
      "cell_type": "markdown",
      "source": [
        "Há valores ausentes presentes no atributo 'Cabin', 'Age' e 'Embarked'. Entretanto, através do código acima, nota-se que há 687 linhas (de 891) com 'Cabin' tendo valor nulo, ou seja, aproximadamente 77% das linhas desta coluna estão nulos. Considerando, portanto, que este atributo não tem correlação com a taxa de sobreviventes, é viável retirá-lo do dataset (\"drop\").\n",
        "\n",
        "Em relação aos outros atributos, entretanto, há uma porcentagem de correlação alta o suficiente que justifica mantê-los. O atributo de 'Age' é preenchido através da média das idades por faixa sendo considerado o pronome de tratamento (Miss: 0-23; Mrs,Mr e Unusual: 23-34; Master: 34-80) enquanto 'Embarked' é preenchido com o valor mais comum."
      ],
      "metadata": {
        "id": "lqlIhWrkrpGN"
      }
    },
    {
      "cell_type": "code",
      "source": [
        "# Removendo os atributos Cabin e Ticket\n",
        "dfCopia = dfCopia.drop(['Cabin', 'Ticket'], axis=1)\n",
        "\n",
        "# dividindo o atributo 'Age' em 3 faixas (0-23; 23-34; 34-80)\n",
        "bins = pd.qcut(dfCopia['Age'], 3)\n",
        "\n",
        "# Neste exemplo, a coluna 'Age' sera agrupada\n",
        "# pelas faixas definidas pelo metodo qcut.\n",
        "grupos = dfCopia['Age'].groupby(bins)\n",
        "\n",
        "# obtendo a media de cada faixa\n",
        "medias = grupos.mean()\n",
        "print (medias)\n",
        "\n",
        "#Preenchendo os valores ausentes com a média de acordo com o pronome de tratamento\n",
        "dfCopia.loc[(dfCopia['Age'].isnull()) & (dfCopia['Tag'] == 'Miss'), 'Age'] = medias[0] \n",
        "dfCopia.loc[(dfCopia['Age'].isnull()) & (dfCopia['Tag'] == 'Mrs'), 'Age'] = medias[1]\n",
        "dfCopia.loc[(dfCopia['Age'].isnull()) & (dfCopia['Tag'] == 'Mr'), 'Age'] = medias[1]\n",
        "dfCopia.loc[(dfCopia['Age'].isnull()) & (dfCopia['Tag'] == 'Unusual'), 'Age'] = medias[1]\n",
        "dfCopia.loc[(dfCopia['Age'].isnull()) & (dfCopia['Tag'] == 'Master'), 'Age'] = medias[2]\n",
        "\n",
        "# Substituindo os valores nulos em Embarked com o mais comum\n",
        "dfCopia['Embarked'] = dfCopia['Embarked'].fillna(dfCopia.Embarked.dropna().mode()[0])\n",
        "\n",
        "#Arredondando as idades para 1 casa decimal\n",
        "dfCopia['Age'] = dfCopia['Age'].round(1)\n",
        "\n",
        "dfCopia"
      ],
      "metadata": {
        "colab": {
          "base_uri": "https://localhost:8080/",
          "height": 0
        },
        "id": "f3cP79Chrr5g",
        "outputId": "a8430a19-a343-4033-aea3-59a7f15229fa"
      },
      "execution_count": 47,
      "outputs": [
        {
          "output_type": "stream",
          "name": "stdout",
          "text": [
            "Age\n",
            "(0.419, 23.0]    15.155163\n",
            "(23.0, 34.0]     28.525862\n",
            "(34.0, 80.0]     46.012712\n",
            "Name: Age, dtype: float64\n"
          ]
        },
        {
          "output_type": "execute_result",
          "data": {
            "text/plain": [
              "     Survived  Pclass     Sex   Age  SibSp  Parch     Fare Embarked      Tag\n",
              "0           0       3    male  22.0      1      0   7.2500        S       Mr\n",
              "1           1       1  female  38.0      1      0  71.2833        C      Mrs\n",
              "2           1       3  female  26.0      0      0   7.9250        S     Miss\n",
              "3           1       1  female  35.0      1      0  53.1000        S      Mrs\n",
              "4           0       3    male  35.0      0      0   8.0500        S       Mr\n",
              "..        ...     ...     ...   ...    ...    ...      ...      ...      ...\n",
              "886         0       2    male  27.0      0      0  13.0000        S  Unusual\n",
              "887         1       1  female  19.0      0      0  30.0000        S     Miss\n",
              "888         0       3  female  15.2      1      2  23.4500        S     Miss\n",
              "889         1       1    male  26.0      0      0  30.0000        C       Mr\n",
              "890         0       3    male  32.0      0      0   7.7500        Q       Mr\n",
              "\n",
              "[891 rows x 9 columns]"
            ],
            "text/html": [
              "\n",
              "  <div id=\"df-956e229f-20e3-43b2-8349-65b0c8263942\">\n",
              "    <div class=\"colab-df-container\">\n",
              "      <div>\n",
              "<style scoped>\n",
              "    .dataframe tbody tr th:only-of-type {\n",
              "        vertical-align: middle;\n",
              "    }\n",
              "\n",
              "    .dataframe tbody tr th {\n",
              "        vertical-align: top;\n",
              "    }\n",
              "\n",
              "    .dataframe thead th {\n",
              "        text-align: right;\n",
              "    }\n",
              "</style>\n",
              "<table border=\"1\" class=\"dataframe\">\n",
              "  <thead>\n",
              "    <tr style=\"text-align: right;\">\n",
              "      <th></th>\n",
              "      <th>Survived</th>\n",
              "      <th>Pclass</th>\n",
              "      <th>Sex</th>\n",
              "      <th>Age</th>\n",
              "      <th>SibSp</th>\n",
              "      <th>Parch</th>\n",
              "      <th>Fare</th>\n",
              "      <th>Embarked</th>\n",
              "      <th>Tag</th>\n",
              "    </tr>\n",
              "  </thead>\n",
              "  <tbody>\n",
              "    <tr>\n",
              "      <th>0</th>\n",
              "      <td>0</td>\n",
              "      <td>3</td>\n",
              "      <td>male</td>\n",
              "      <td>22.0</td>\n",
              "      <td>1</td>\n",
              "      <td>0</td>\n",
              "      <td>7.2500</td>\n",
              "      <td>S</td>\n",
              "      <td>Mr</td>\n",
              "    </tr>\n",
              "    <tr>\n",
              "      <th>1</th>\n",
              "      <td>1</td>\n",
              "      <td>1</td>\n",
              "      <td>female</td>\n",
              "      <td>38.0</td>\n",
              "      <td>1</td>\n",
              "      <td>0</td>\n",
              "      <td>71.2833</td>\n",
              "      <td>C</td>\n",
              "      <td>Mrs</td>\n",
              "    </tr>\n",
              "    <tr>\n",
              "      <th>2</th>\n",
              "      <td>1</td>\n",
              "      <td>3</td>\n",
              "      <td>female</td>\n",
              "      <td>26.0</td>\n",
              "      <td>0</td>\n",
              "      <td>0</td>\n",
              "      <td>7.9250</td>\n",
              "      <td>S</td>\n",
              "      <td>Miss</td>\n",
              "    </tr>\n",
              "    <tr>\n",
              "      <th>3</th>\n",
              "      <td>1</td>\n",
              "      <td>1</td>\n",
              "      <td>female</td>\n",
              "      <td>35.0</td>\n",
              "      <td>1</td>\n",
              "      <td>0</td>\n",
              "      <td>53.1000</td>\n",
              "      <td>S</td>\n",
              "      <td>Mrs</td>\n",
              "    </tr>\n",
              "    <tr>\n",
              "      <th>4</th>\n",
              "      <td>0</td>\n",
              "      <td>3</td>\n",
              "      <td>male</td>\n",
              "      <td>35.0</td>\n",
              "      <td>0</td>\n",
              "      <td>0</td>\n",
              "      <td>8.0500</td>\n",
              "      <td>S</td>\n",
              "      <td>Mr</td>\n",
              "    </tr>\n",
              "    <tr>\n",
              "      <th>...</th>\n",
              "      <td>...</td>\n",
              "      <td>...</td>\n",
              "      <td>...</td>\n",
              "      <td>...</td>\n",
              "      <td>...</td>\n",
              "      <td>...</td>\n",
              "      <td>...</td>\n",
              "      <td>...</td>\n",
              "      <td>...</td>\n",
              "    </tr>\n",
              "    <tr>\n",
              "      <th>886</th>\n",
              "      <td>0</td>\n",
              "      <td>2</td>\n",
              "      <td>male</td>\n",
              "      <td>27.0</td>\n",
              "      <td>0</td>\n",
              "      <td>0</td>\n",
              "      <td>13.0000</td>\n",
              "      <td>S</td>\n",
              "      <td>Unusual</td>\n",
              "    </tr>\n",
              "    <tr>\n",
              "      <th>887</th>\n",
              "      <td>1</td>\n",
              "      <td>1</td>\n",
              "      <td>female</td>\n",
              "      <td>19.0</td>\n",
              "      <td>0</td>\n",
              "      <td>0</td>\n",
              "      <td>30.0000</td>\n",
              "      <td>S</td>\n",
              "      <td>Miss</td>\n",
              "    </tr>\n",
              "    <tr>\n",
              "      <th>888</th>\n",
              "      <td>0</td>\n",
              "      <td>3</td>\n",
              "      <td>female</td>\n",
              "      <td>15.2</td>\n",
              "      <td>1</td>\n",
              "      <td>2</td>\n",
              "      <td>23.4500</td>\n",
              "      <td>S</td>\n",
              "      <td>Miss</td>\n",
              "    </tr>\n",
              "    <tr>\n",
              "      <th>889</th>\n",
              "      <td>1</td>\n",
              "      <td>1</td>\n",
              "      <td>male</td>\n",
              "      <td>26.0</td>\n",
              "      <td>0</td>\n",
              "      <td>0</td>\n",
              "      <td>30.0000</td>\n",
              "      <td>C</td>\n",
              "      <td>Mr</td>\n",
              "    </tr>\n",
              "    <tr>\n",
              "      <th>890</th>\n",
              "      <td>0</td>\n",
              "      <td>3</td>\n",
              "      <td>male</td>\n",
              "      <td>32.0</td>\n",
              "      <td>0</td>\n",
              "      <td>0</td>\n",
              "      <td>7.7500</td>\n",
              "      <td>Q</td>\n",
              "      <td>Mr</td>\n",
              "    </tr>\n",
              "  </tbody>\n",
              "</table>\n",
              "<p>891 rows × 9 columns</p>\n",
              "</div>\n",
              "      <button class=\"colab-df-convert\" onclick=\"convertToInteractive('df-956e229f-20e3-43b2-8349-65b0c8263942')\"\n",
              "              title=\"Convert this dataframe to an interactive table.\"\n",
              "              style=\"display:none;\">\n",
              "        \n",
              "  <svg xmlns=\"http://www.w3.org/2000/svg\" height=\"24px\"viewBox=\"0 0 24 24\"\n",
              "       width=\"24px\">\n",
              "    <path d=\"M0 0h24v24H0V0z\" fill=\"none\"/>\n",
              "    <path d=\"M18.56 5.44l.94 2.06.94-2.06 2.06-.94-2.06-.94-.94-2.06-.94 2.06-2.06.94zm-11 1L8.5 8.5l.94-2.06 2.06-.94-2.06-.94L8.5 2.5l-.94 2.06-2.06.94zm10 10l.94 2.06.94-2.06 2.06-.94-2.06-.94-.94-2.06-.94 2.06-2.06.94z\"/><path d=\"M17.41 7.96l-1.37-1.37c-.4-.4-.92-.59-1.43-.59-.52 0-1.04.2-1.43.59L10.3 9.45l-7.72 7.72c-.78.78-.78 2.05 0 2.83L4 21.41c.39.39.9.59 1.41.59.51 0 1.02-.2 1.41-.59l7.78-7.78 2.81-2.81c.8-.78.8-2.07 0-2.86zM5.41 20L4 18.59l7.72-7.72 1.47 1.35L5.41 20z\"/>\n",
              "  </svg>\n",
              "      </button>\n",
              "      \n",
              "  <style>\n",
              "    .colab-df-container {\n",
              "      display:flex;\n",
              "      flex-wrap:wrap;\n",
              "      gap: 12px;\n",
              "    }\n",
              "\n",
              "    .colab-df-convert {\n",
              "      background-color: #E8F0FE;\n",
              "      border: none;\n",
              "      border-radius: 50%;\n",
              "      cursor: pointer;\n",
              "      display: none;\n",
              "      fill: #1967D2;\n",
              "      height: 32px;\n",
              "      padding: 0 0 0 0;\n",
              "      width: 32px;\n",
              "    }\n",
              "\n",
              "    .colab-df-convert:hover {\n",
              "      background-color: #E2EBFA;\n",
              "      box-shadow: 0px 1px 2px rgba(60, 64, 67, 0.3), 0px 1px 3px 1px rgba(60, 64, 67, 0.15);\n",
              "      fill: #174EA6;\n",
              "    }\n",
              "\n",
              "    [theme=dark] .colab-df-convert {\n",
              "      background-color: #3B4455;\n",
              "      fill: #D2E3FC;\n",
              "    }\n",
              "\n",
              "    [theme=dark] .colab-df-convert:hover {\n",
              "      background-color: #434B5C;\n",
              "      box-shadow: 0px 1px 3px 1px rgba(0, 0, 0, 0.15);\n",
              "      filter: drop-shadow(0px 1px 2px rgba(0, 0, 0, 0.3));\n",
              "      fill: #FFFFFF;\n",
              "    }\n",
              "  </style>\n",
              "\n",
              "      <script>\n",
              "        const buttonEl =\n",
              "          document.querySelector('#df-956e229f-20e3-43b2-8349-65b0c8263942 button.colab-df-convert');\n",
              "        buttonEl.style.display =\n",
              "          google.colab.kernel.accessAllowed ? 'block' : 'none';\n",
              "\n",
              "        async function convertToInteractive(key) {\n",
              "          const element = document.querySelector('#df-956e229f-20e3-43b2-8349-65b0c8263942');\n",
              "          const dataTable =\n",
              "            await google.colab.kernel.invokeFunction('convertToInteractive',\n",
              "                                                     [key], {});\n",
              "          if (!dataTable) return;\n",
              "\n",
              "          const docLinkHtml = 'Like what you see? Visit the ' +\n",
              "            '<a target=\"_blank\" href=https://colab.research.google.com/notebooks/data_table.ipynb>data table notebook</a>'\n",
              "            + ' to learn more about interactive tables.';\n",
              "          element.innerHTML = '';\n",
              "          dataTable['output_type'] = 'display_data';\n",
              "          await google.colab.output.renderOutput(dataTable, element);\n",
              "          const docLink = document.createElement('div');\n",
              "          docLink.innerHTML = docLinkHtml;\n",
              "          element.appendChild(docLink);\n",
              "        }\n",
              "      </script>\n",
              "    </div>\n",
              "  </div>\n",
              "  "
            ]
          },
          "metadata": {},
          "execution_count": 47
        }
      ]
    },
    {
      "cell_type": "markdown",
      "source": [
        "### Suavização dos ruídos\n",
        "\n",
        "A fim de reduzir a influência de ruídos nos atributos do conjunto de dados estudado, dividi os valores de cada atributo em faixas, de modo que cada faixa contenha aproximadamente a mesma quantidade de valores. Em seguida, os valores contidos em cada faixa são substituídos pela média das idades."
      ],
      "metadata": {
        "id": "s6OQNVrRsHtq"
      }
    },
    {
      "cell_type": "code",
      "source": [
        "#gráfico em azul\n",
        "plt.hist(dfCopia['Age'], bins = 3)\n",
        "plt.xlabel('Idade')\n",
        "plt.ylabel('Quantidade')\n",
        "\n",
        "# dividindo o atributo 'Age' em 3 faixas \n",
        "bins = pd.qcut(dfCopia['Age'], 3)\n",
        "\n",
        "# quantidade de valores aproximadamente igual em cada faixa \n",
        "bins.value_counts()\n",
        "\n",
        "# Neste exemplo, a coluna 'Age' sera agrupada\n",
        "# pelas faixas definidas pelo metodo qcut.\n",
        "grupos = dfCopia['Age'].groupby(bins)\n",
        "\n",
        "# obtendo a media de cada faixa\n",
        "medias = grupos.mean()\n",
        "\n",
        "# Obtendo a nova coluna.\n",
        "# Neste caso, cada elemento de bins consiste \n",
        "# no intervalo que o respectivo valor de 'Age'\n",
        "# pertence e, assim, a funcao informada em apply\n",
        "# retornara a respectiva media de cada intervalo.\n",
        "novo_age = bins.apply(lambda x : medias[x])\n",
        "\n",
        "# a coluna 'Age' do DataFrame original é atualizada\n",
        "dfCopia['Age'] = novo_age\n",
        "\n",
        "#gráfico em laranja\n",
        "plt.hist(dfCopia['Age'], bins = 3)\n",
        "plt.xlabel('Idade')\n",
        "plt.ylabel('Quantidade')"
      ],
      "metadata": {
        "colab": {
          "base_uri": "https://localhost:8080/",
          "height": 0
        },
        "id": "RNcXk2ymsMfd",
        "outputId": "a4a66daf-6062-4548-a728-9770ad287208"
      },
      "execution_count": 48,
      "outputs": [
        {
          "output_type": "execute_result",
          "data": {
            "text/plain": [
              "Text(0, 0.5, 'Quantidade')"
            ]
          },
          "metadata": {},
          "execution_count": 48
        },
        {
          "output_type": "display_data",
          "data": {
            "text/plain": [
              "<Figure size 432x288 with 1 Axes>"
            ],
            "image/png": "[encoded data removed]"
          },
          "metadata": {
            "needs_background": "light"
          }
        }
      ]
    },
    {
      "cell_type": "markdown",
      "source": [
        "### Inconsistências\n",
        "\n",
        "Os atributos que poderiam ter incosistências foram excluídos: 'Name' e 'Ticket'"
      ],
      "metadata": {
        "id": "roxOlsm4s2VJ"
      }
    },
    {
      "cell_type": "markdown",
      "source": [
        "### Transformação de atributos categóricos nominais em vetor numérico\n",
        "\n",
        "Sabendo que os atributos categóricos nominais são 'Sex', 'Embarked', 'Tag', utiliza-se o conceito de Ordinal Enconding para transformá-los em vetor númerico: cada valor único passa a ter um valor numérico diferente."
      ],
      "metadata": {
        "id": "ECI2VlRps8ai"
      }
    },
    {
      "cell_type": "code",
      "source": [
        "# Conferindo os atributos categóricos\n",
        "s = (dfCopia.dtypes == 'object')\n",
        "categoricos = list(s[s].index)\n",
        "\n",
        "print(\"Atributos categóricos:\", categoricos)\n",
        "\n",
        "# Aplicando o 'ordinal encoder' em cada coluna com atributos categóricos\n",
        "oe = sklearn.preprocessing.OrdinalEncoder()\n",
        "\n",
        "dfCopia[categoricos] = oe.fit_transform(dfCopia[categoricos])\n",
        "\n",
        "dfCopia"
      ],
      "metadata": {
        "colab": {
          "base_uri": "https://localhost:8080/",
          "height": 0
        },
        "id": "qlJsY26Xs_OU",
        "outputId": "ab304c8c-c370-4355-86f3-167929d216e2"
      },
      "execution_count": 49,
      "outputs": [
        {
          "output_type": "stream",
          "name": "stdout",
          "text": [
            "Atributos categóricos: ['Sex', 'Embarked', 'Tag']\n"
          ]
        },
        {
          "output_type": "execute_result",
          "data": {
            "text/plain": [
              "     Survived  Pclass  Sex        Age  SibSp  Parch     Fare  Embarked  Tag\n",
              "0           0       3  1.0  16.034824      1      0   7.2500       2.0  2.0\n",
              "1           1       1  0.0  43.755172      1      0  71.2833       0.0  3.0\n",
              "2           1       3  0.0  28.239583      0      0   7.9250       2.0  1.0\n",
              "3           1       1  0.0  43.755172      1      0  53.1000       2.0  3.0\n",
              "4           0       3  1.0  43.755172      0      0   8.0500       2.0  2.0\n",
              "..        ...     ...  ...        ...    ...    ...      ...       ...  ...\n",
              "886         0       2  1.0  28.239583      0      0  13.0000       2.0  4.0\n",
              "887         1       1  0.0  16.034824      0      0  30.0000       2.0  1.0\n",
              "888         0       3  0.0  16.034824      1      2  23.4500       2.0  1.0\n",
              "889         1       1  1.0  28.239583      0      0  30.0000       0.0  2.0\n",
              "890         0       3  1.0  43.755172      0      0   7.7500       1.0  2.0\n",
              "\n",
              "[891 rows x 9 columns]"
            ],
            "text/html": [
              "\n",
              "  <div id=\"df-25abc9fa-c537-4c34-b2e2-c42694baef0a\">\n",
              "    <div class=\"colab-df-container\">\n",
              "      <div>\n",
              "<style scoped>\n",
              "    .dataframe tbody tr th:only-of-type {\n",
              "        vertical-align: middle;\n",
              "    }\n",
              "\n",
              "    .dataframe tbody tr th {\n",
              "        vertical-align: top;\n",
              "    }\n",
              "\n",
              "    .dataframe thead th {\n",
              "        text-align: right;\n",
              "    }\n",
              "</style>\n",
              "<table border=\"1\" class=\"dataframe\">\n",
              "  <thead>\n",
              "    <tr style=\"text-align: right;\">\n",
              "      <th></th>\n",
              "      <th>Survived</th>\n",
              "      <th>Pclass</th>\n",
              "      <th>Sex</th>\n",
              "      <th>Age</th>\n",
              "      <th>SibSp</th>\n",
              "      <th>Parch</th>\n",
              "      <th>Fare</th>\n",
              "      <th>Embarked</th>\n",
              "      <th>Tag</th>\n",
              "    </tr>\n",
              "  </thead>\n",
              "  <tbody>\n",
              "    <tr>\n",
              "      <th>0</th>\n",
              "      <td>0</td>\n",
              "      <td>3</td>\n",
              "      <td>1.0</td>\n",
              "      <td>16.034824</td>\n",
              "      <td>1</td>\n",
              "      <td>0</td>\n",
              "      <td>7.2500</td>\n",
              "      <td>2.0</td>\n",
              "      <td>2.0</td>\n",
              "    </tr>\n",
              "    <tr>\n",
              "      <th>1</th>\n",
              "      <td>1</td>\n",
              "      <td>1</td>\n",
              "      <td>0.0</td>\n",
              "      <td>43.755172</td>\n",
              "      <td>1</td>\n",
              "      <td>0</td>\n",
              "      <td>71.2833</td>\n",
              "      <td>0.0</td>\n",
              "      <td>3.0</td>\n",
              "    </tr>\n",
              "    <tr>\n",
              "      <th>2</th>\n",
              "      <td>1</td>\n",
              "      <td>3</td>\n",
              "      <td>0.0</td>\n",
              "      <td>28.239583</td>\n",
              "      <td>0</td>\n",
              "      <td>0</td>\n",
              "      <td>7.9250</td>\n",
              "      <td>2.0</td>\n",
              "      <td>1.0</td>\n",
              "    </tr>\n",
              "    <tr>\n",
              "      <th>3</th>\n",
              "      <td>1</td>\n",
              "      <td>1</td>\n",
              "      <td>0.0</td>\n",
              "      <td>43.755172</td>\n",
              "      <td>1</td>\n",
              "      <td>0</td>\n",
              "      <td>53.1000</td>\n",
              "      <td>2.0</td>\n",
              "      <td>3.0</td>\n",
              "    </tr>\n",
              "    <tr>\n",
              "      <th>4</th>\n",
              "      <td>0</td>\n",
              "      <td>3</td>\n",
              "      <td>1.0</td>\n",
              "      <td>43.755172</td>\n",
              "      <td>0</td>\n",
              "      <td>0</td>\n",
              "      <td>8.0500</td>\n",
              "      <td>2.0</td>\n",
              "      <td>2.0</td>\n",
              "    </tr>\n",
              "    <tr>\n",
              "      <th>...</th>\n",
              "      <td>...</td>\n",
              "      <td>...</td>\n",
              "      <td>...</td>\n",
              "      <td>...</td>\n",
              "      <td>...</td>\n",
              "      <td>...</td>\n",
              "      <td>...</td>\n",
              "      <td>...</td>\n",
              "      <td>...</td>\n",
              "    </tr>\n",
              "    <tr>\n",
              "      <th>886</th>\n",
              "      <td>0</td>\n",
              "      <td>2</td>\n",
              "      <td>1.0</td>\n",
              "      <td>28.239583</td>\n",
              "      <td>0</td>\n",
              "      <td>0</td>\n",
              "      <td>13.0000</td>\n",
              "      <td>2.0</td>\n",
              "      <td>4.0</td>\n",
              "    </tr>\n",
              "    <tr>\n",
              "      <th>887</th>\n",
              "      <td>1</td>\n",
              "      <td>1</td>\n",
              "      <td>0.0</td>\n",
              "      <td>16.034824</td>\n",
              "      <td>0</td>\n",
              "      <td>0</td>\n",
              "      <td>30.0000</td>\n",
              "      <td>2.0</td>\n",
              "      <td>1.0</td>\n",
              "    </tr>\n",
              "    <tr>\n",
              "      <th>888</th>\n",
              "      <td>0</td>\n",
              "      <td>3</td>\n",
              "      <td>0.0</td>\n",
              "      <td>16.034824</td>\n",
              "      <td>1</td>\n",
              "      <td>2</td>\n",
              "      <td>23.4500</td>\n",
              "      <td>2.0</td>\n",
              "      <td>1.0</td>\n",
              "    </tr>\n",
              "    <tr>\n",
              "      <th>889</th>\n",
              "      <td>1</td>\n",
              "      <td>1</td>\n",
              "      <td>1.0</td>\n",
              "      <td>28.239583</td>\n",
              "      <td>0</td>\n",
              "      <td>0</td>\n",
              "      <td>30.0000</td>\n",
              "      <td>0.0</td>\n",
              "      <td>2.0</td>\n",
              "    </tr>\n",
              "    <tr>\n",
              "      <th>890</th>\n",
              "      <td>0</td>\n",
              "      <td>3</td>\n",
              "      <td>1.0</td>\n",
              "      <td>43.755172</td>\n",
              "      <td>0</td>\n",
              "      <td>0</td>\n",
              "      <td>7.7500</td>\n",
              "      <td>1.0</td>\n",
              "      <td>2.0</td>\n",
              "    </tr>\n",
              "  </tbody>\n",
              "</table>\n",
              "<p>891 rows × 9 columns</p>\n",
              "</div>\n",
              "      <button class=\"colab-df-convert\" onclick=\"convertToInteractive('df-25abc9fa-c537-4c34-b2e2-c42694baef0a')\"\n",
              "              title=\"Convert this dataframe to an interactive table.\"\n",
              "              style=\"display:none;\">\n",
              "        \n",
              "  <svg xmlns=\"http://www.w3.org/2000/svg\" height=\"24px\"viewBox=\"0 0 24 24\"\n",
              "       width=\"24px\">\n",
              "    <path d=\"M0 0h24v24H0V0z\" fill=\"none\"/>\n",
              "    <path d=\"M18.56 5.44l.94 2.06.94-2.06 2.06-.94-2.06-.94-.94-2.06-.94 2.06-2.06.94zm-11 1L8.5 8.5l.94-2.06 2.06-.94-2.06-.94L8.5 2.5l-.94 2.06-2.06.94zm10 10l.94 2.06.94-2.06 2.06-.94-2.06-.94-.94-2.06-.94 2.06-2.06.94z\"/><path d=\"M17.41 7.96l-1.37-1.37c-.4-.4-.92-.59-1.43-.59-.52 0-1.04.2-1.43.59L10.3 9.45l-7.72 7.72c-.78.78-.78 2.05 0 2.83L4 21.41c.39.39.9.59 1.41.59.51 0 1.02-.2 1.41-.59l7.78-7.78 2.81-2.81c.8-.78.8-2.07 0-2.86zM5.41 20L4 18.59l7.72-7.72 1.47 1.35L5.41 20z\"/>\n",
              "  </svg>\n",
              "      </button>\n",
              "      \n",
              "  <style>\n",
              "    .colab-df-container {\n",
              "      display:flex;\n",
              "      flex-wrap:wrap;\n",
              "      gap: 12px;\n",
              "    }\n",
              "\n",
              "    .colab-df-convert {\n",
              "      background-color: #E8F0FE;\n",
              "      border: none;\n",
              "      border-radius: 50%;\n",
              "      cursor: pointer;\n",
              "      display: none;\n",
              "      fill: #1967D2;\n",
              "      height: 32px;\n",
              "      padding: 0 0 0 0;\n",
              "      width: 32px;\n",
              "    }\n",
              "\n",
              "    .colab-df-convert:hover {\n",
              "      background-color: #E2EBFA;\n",
              "      box-shadow: 0px 1px 2px rgba(60, 64, 67, 0.3), 0px 1px 3px 1px rgba(60, 64, 67, 0.15);\n",
              "      fill: #174EA6;\n",
              "    }\n",
              "\n",
              "    [theme=dark] .colab-df-convert {\n",
              "      background-color: #3B4455;\n",
              "      fill: #D2E3FC;\n",
              "    }\n",
              "\n",
              "    [theme=dark] .colab-df-convert:hover {\n",
              "      background-color: #434B5C;\n",
              "      box-shadow: 0px 1px 3px 1px rgba(0, 0, 0, 0.15);\n",
              "      filter: drop-shadow(0px 1px 2px rgba(0, 0, 0, 0.3));\n",
              "      fill: #FFFFFF;\n",
              "    }\n",
              "  </style>\n",
              "\n",
              "      <script>\n",
              "        const buttonEl =\n",
              "          document.querySelector('#df-25abc9fa-c537-4c34-b2e2-c42694baef0a button.colab-df-convert');\n",
              "        buttonEl.style.display =\n",
              "          google.colab.kernel.accessAllowed ? 'block' : 'none';\n",
              "\n",
              "        async function convertToInteractive(key) {\n",
              "          const element = document.querySelector('#df-25abc9fa-c537-4c34-b2e2-c42694baef0a');\n",
              "          const dataTable =\n",
              "            await google.colab.kernel.invokeFunction('convertToInteractive',\n",
              "                                                     [key], {});\n",
              "          if (!dataTable) return;\n",
              "\n",
              "          const docLinkHtml = 'Like what you see? Visit the ' +\n",
              "            '<a target=\"_blank\" href=https://colab.research.google.com/notebooks/data_table.ipynb>data table notebook</a>'\n",
              "            + ' to learn more about interactive tables.';\n",
              "          element.innerHTML = '';\n",
              "          dataTable['output_type'] = 'display_data';\n",
              "          await google.colab.output.renderOutput(dataTable, element);\n",
              "          const docLink = document.createElement('div');\n",
              "          docLink.innerHTML = docLinkHtml;\n",
              "          element.appendChild(docLink);\n",
              "        }\n",
              "      </script>\n",
              "    </div>\n",
              "  </div>\n",
              "  "
            ]
          },
          "metadata": {},
          "execution_count": 49
        }
      ]
    },
    {
      "cell_type": "markdown",
      "source": [
        "### Transformação de atributos categóricos ordinais em atributos numéricos\n",
        "\n",
        "Já os atributos categóricos ordinais apenas o  **'Pclass'**, porém o mesmo já é numérico então não há nada a fazer."
      ],
      "metadata": {
        "id": "U7L3xuHntV28"
      }
    },
    {
      "cell_type": "markdown",
      "source": [
        "### Normalização dos valores de atributos numéricos\n",
        "\n",
        "Na normalização por padronização, os diferentes atributos contínuos poderão abranger diferentes intervalos, mas deverão possuir os mesmos valores para alguma medida de\n",
        "posição e de espalhamento/variação [Faceli et al. 2011]. Tipicamente, tais medidas irão\n",
        "consistir na média e no desvio-padrão. Neste caso, o valor normalizado de um atributo j\n",
        "em um objeto i é dado por:\n",
        "\n",
        "![Capturar.PNG](data:image/png;base64,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)\n",
        "\n",
        "onde ![image.png](data:image/png;base64,iVBORw0KGgoAAAANSUhEUgAAAD8AAAAeCAYAAACbr8ZMAAAEqUlEQVRYhe2Ye0yTZxTGn96gU8bFRafWaYSBhuiQOV2yDW9TN6ZuYS7zHxOd6HBzMdNlOtQxnMYMHRXxskF0keAujmlQmTq5iKjBG6wFh6IGFVGsQLkN+Er79dkfsjFpS1uslASepEnTt+ec33nPyXm/95OQJHqppO4GcKf6ku+t6ku+t6ov+f9LvBqHMG8llMoOH58Z2H7H7A7GJyaJxTlvasQDXR0MHfOUKuE3eCC8ZN0H96RlmXy3ygyhqgJVssF4boBHt0eXt3814f7Fg9h/8Diyzt/BiKg9SJw3HNCdgjo6Drnei7Ar/j0Md0nlW1H+RwI2/3wVgkxA2ZlMXPWejfW7t2NJiJd9c7MeF/Zswu4iTwzxEyG0GmEcPg/qjyc6h8H/JLKhuoZCw3EuHSmjxyQ1y+rOceuyFdwQ+wkXx2bwnkiXSH9iOV+aHsdiQ1vk8mS+5SulYvRKnmqyb1+bvoCq/m8ySSeSYjUzFgcxLO660xyw/KmJhxY8S5nvHH4WE83UMpPj3oxFTIqcz2/yGmz/x1TKLWE+nBCdSY1WS61WS60mm2smKiiRB/LTPIO9ICxeP54KxRh+cV4gSRryvuZX6VZ2zQ6P3LIXlHj5lVB4pp5EoZ8acSOd6XMTWhrr0dhsst2x1SeRVWBEqyoHv6W1+5bOXI21b8gxysveCJIjcPo0PL8xHt+tjMf7WWsQGvYlYrvCY3VvC9fxBcVTDE/W0UWd3u5bE8NxCk+GJ1d33Ymo46FIfyokSoasOs3GLrqxfMgx65H9y1k09jfiz/wLaLVThzYj6EtycDBlBzZt/AlFtgsPiacSnjBBey4fTRarIqoqdfZjSgfh7S3f48MgEUU71yLpmtg1ng5bSt3haC7ffYkp7/pSEbya5wwkBT31f9sphrGWmcsC2G/KVt7qrF1ajjJSJaPUdzq3XTE+stR4MZ6f7yim0YYpGw5wc+LltnWRupQI+kmVnP1DbZd4pAAgPtAgN/8makpSoS58FWs+CMWUyaGQXc9B5rXbOLJ1LwoNZgBm3MtNQsKBEggdiyE3425FDQJfmwxVZw/NymlYsnAsPOqzsWpWBGL2HsPpM9n4VR2FiJg6zJk/BlYG0cO+KC/B4bQjuC4CgBS+ASMxUK6Cv38/y+ZwhIc0UhPzIhUSBVWzE6ltadu52zs542kpPYZM44azdf/WhumLVBwwNYGlHQ+Blt8ZOWwEo04InZS9TcIV7ouawEEKCQFQIvNl8NyNzLzb+YQRji7l6KGjOGNFMg9n7OO6WeP5+tpjrLRm5gDPw7YXKvlX0U02POLExJrSQpbc72gs0mQlmPFCNMc+M5c/WnagTRmqb1BzqZi39PaOt7bI98tZIZDGmhssPK9hWY3txBzhsTrtnZfIm+rJ9Jm6jbddfTx0SY7xuOhKW48zpy8jYNIUDO0Rl2THeFyDKuQjt2AYwucE2xxW3SoHeR6LtbkkA+kPQvAOj6MgaCH2j3Nv6s7yPAatGVVnkxGTFohSf2L5to8Q5Na7vvM8j3mfN6O5vhlyHy90/23cmpzjcfPLDPeqR8xmd6kv+R4vsQ7Xcvfh212Z0LnwBfI/3jBMv2FJKYoAAAAASUVORK5CYII=) representam a média do atributo j e o seu desvio-padrão, respectivamente.\n",
        "Desse modo, cada atributo j terá média zero e desvio-padrão unitário."
      ],
      "metadata": {
        "id": "uJIxHr2ntama"
      }
    },
    {
      "cell_type": "code",
      "source": [
        "# Obtendo os nomes das colunas do DataFrame como uma lista.\n",
        "cols = list(dfCopia.columns)\n",
        "\n",
        "#removendo as colunas que não precisam ser normalizadas  \n",
        "cols.remove('Survived')\n",
        "cols.remove('Pclass')\n",
        "cols.remove('Sex')\n",
        "cols.remove('SibSp')\n",
        "cols.remove('Parch')\n",
        "cols.remove('Embarked')\n",
        "cols.remove('Tag')\n",
        "\n",
        "# Copiando os dados e aplicando a normalizacao\n",
        "# por padronização a todas as colunas do DataFrame.\n",
        "# Por padrao, o metodo scale subtrai a media e divide pelo desvio-padrao.\n",
        "dados_dist = dfCopia.copy()\n",
        "dados_dist[cols] = dfCopia[cols].apply(scale)\n",
        "\n",
        "dados_dist.round(2)"
      ],
      "metadata": {
        "colab": {
          "base_uri": "https://localhost:8080/",
          "height": 0
        },
        "id": "Fd93QdOXth_r",
        "outputId": "703f9cc9-16a5-4a1d-8866-f9fa3597a9e6"
      },
      "execution_count": 50,
      "outputs": [
        {
          "output_type": "execute_result",
          "data": {
            "text/plain": [
              "     Survived  Pclass  Sex   Age  SibSp  Parch  Fare  Embarked  Tag\n",
              "0           0       3  1.0 -1.14      1      0 -0.50       2.0  2.0\n",
              "1           1       1  0.0  1.29      1      0  0.79       0.0  3.0\n",
              "2           1       3  0.0 -0.07      0      0 -0.49       2.0  1.0\n",
              "3           1       1  0.0  1.29      1      0  0.42       2.0  3.0\n",
              "4           0       3  1.0  1.29      0      0 -0.49       2.0  2.0\n",
              "..        ...     ...  ...   ...    ...    ...   ...       ...  ...\n",
              "886         0       2  1.0 -0.07      0      0 -0.39       2.0  4.0\n",
              "887         1       1  0.0 -1.14      0      0 -0.04       2.0  1.0\n",
              "888         0       3  0.0 -1.14      1      2 -0.18       2.0  1.0\n",
              "889         1       1  1.0 -0.07      0      0 -0.04       0.0  2.0\n",
              "890         0       3  1.0  1.29      0      0 -0.49       1.0  2.0\n",
              "\n",
              "[891 rows x 9 columns]"
            ],
            "text/html": [
              "\n",
              "  <div id=\"df-de3720b5-83f6-432e-89f3-35501c711b46\">\n",
              "    <div class=\"colab-df-container\">\n",
              "      <div>\n",
              "<style scoped>\n",
              "    .dataframe tbody tr th:only-of-type {\n",
              "        vertical-align: middle;\n",
              "    }\n",
              "\n",
              "    .dataframe tbody tr th {\n",
              "        vertical-align: top;\n",
              "    }\n",
              "\n",
              "    .dataframe thead th {\n",
              "        text-align: right;\n",
              "    }\n",
              "</style>\n",
              "<table border=\"1\" class=\"dataframe\">\n",
              "  <thead>\n",
              "    <tr style=\"text-align: right;\">\n",
              "      <th></th>\n",
              "      <th>Survived</th>\n",
              "      <th>Pclass</th>\n",
              "      <th>Sex</th>\n",
              "      <th>Age</th>\n",
              "      <th>SibSp</th>\n",
              "      <th>Parch</th>\n",
              "      <th>Fare</th>\n",
              "      <th>Embarked</th>\n",
              "      <th>Tag</th>\n",
              "    </tr>\n",
              "  </thead>\n",
              "  <tbody>\n",
              "    <tr>\n",
              "      <th>0</th>\n",
              "      <td>0</td>\n",
              "      <td>3</td>\n",
              "      <td>1.0</td>\n",
              "      <td>-1.14</td>\n",
              "      <td>1</td>\n",
              "      <td>0</td>\n",
              "      <td>-0.50</td>\n",
              "      <td>2.0</td>\n",
              "      <td>2.0</td>\n",
              "    </tr>\n",
              "    <tr>\n",
              "      <th>1</th>\n",
              "      <td>1</td>\n",
              "      <td>1</td>\n",
              "      <td>0.0</td>\n",
              "      <td>1.29</td>\n",
              "      <td>1</td>\n",
              "      <td>0</td>\n",
              "      <td>0.79</td>\n",
              "      <td>0.0</td>\n",
              "      <td>3.0</td>\n",
              "    </tr>\n",
              "    <tr>\n",
              "      <th>2</th>\n",
              "      <td>1</td>\n",
              "      <td>3</td>\n",
              "      <td>0.0</td>\n",
              "      <td>-0.07</td>\n",
              "      <td>0</td>\n",
              "      <td>0</td>\n",
              "      <td>-0.49</td>\n",
              "      <td>2.0</td>\n",
              "      <td>1.0</td>\n",
              "    </tr>\n",
              "    <tr>\n",
              "      <th>3</th>\n",
              "      <td>1</td>\n",
              "      <td>1</td>\n",
              "      <td>0.0</td>\n",
              "      <td>1.29</td>\n",
              "      <td>1</td>\n",
              "      <td>0</td>\n",
              "      <td>0.42</td>\n",
              "      <td>2.0</td>\n",
              "      <td>3.0</td>\n",
              "    </tr>\n",
              "    <tr>\n",
              "      <th>4</th>\n",
              "      <td>0</td>\n",
              "      <td>3</td>\n",
              "      <td>1.0</td>\n",
              "      <td>1.29</td>\n",
              "      <td>0</td>\n",
              "      <td>0</td>\n",
              "      <td>-0.49</td>\n",
              "      <td>2.0</td>\n",
              "      <td>2.0</td>\n",
              "    </tr>\n",
              "    <tr>\n",
              "      <th>...</th>\n",
              "      <td>...</td>\n",
              "      <td>...</td>\n",
              "      <td>...</td>\n",
              "      <td>...</td>\n",
              "      <td>...</td>\n",
              "      <td>...</td>\n",
              "      <td>...</td>\n",
              "      <td>...</td>\n",
              "      <td>...</td>\n",
              "    </tr>\n",
              "    <tr>\n",
              "      <th>886</th>\n",
              "      <td>0</td>\n",
              "      <td>2</td>\n",
              "      <td>1.0</td>\n",
              "      <td>-0.07</td>\n",
              "      <td>0</td>\n",
              "      <td>0</td>\n",
              "      <td>-0.39</td>\n",
              "      <td>2.0</td>\n",
              "      <td>4.0</td>\n",
              "    </tr>\n",
              "    <tr>\n",
              "      <th>887</th>\n",
              "      <td>1</td>\n",
              "      <td>1</td>\n",
              "      <td>0.0</td>\n",
              "      <td>-1.14</td>\n",
              "      <td>0</td>\n",
              "      <td>0</td>\n",
              "      <td>-0.04</td>\n",
              "      <td>2.0</td>\n",
              "      <td>1.0</td>\n",
              "    </tr>\n",
              "    <tr>\n",
              "      <th>888</th>\n",
              "      <td>0</td>\n",
              "      <td>3</td>\n",
              "      <td>0.0</td>\n",
              "      <td>-1.14</td>\n",
              "      <td>1</td>\n",
              "      <td>2</td>\n",
              "      <td>-0.18</td>\n",
              "      <td>2.0</td>\n",
              "      <td>1.0</td>\n",
              "    </tr>\n",
              "    <tr>\n",
              "      <th>889</th>\n",
              "      <td>1</td>\n",
              "      <td>1</td>\n",
              "      <td>1.0</td>\n",
              "      <td>-0.07</td>\n",
              "      <td>0</td>\n",
              "      <td>0</td>\n",
              "      <td>-0.04</td>\n",
              "      <td>0.0</td>\n",
              "      <td>2.0</td>\n",
              "    </tr>\n",
              "    <tr>\n",
              "      <th>890</th>\n",
              "      <td>0</td>\n",
              "      <td>3</td>\n",
              "      <td>1.0</td>\n",
              "      <td>1.29</td>\n",
              "      <td>0</td>\n",
              "      <td>0</td>\n",
              "      <td>-0.49</td>\n",
              "      <td>1.0</td>\n",
              "      <td>2.0</td>\n",
              "    </tr>\n",
              "  </tbody>\n",
              "</table>\n",
              "<p>891 rows × 9 columns</p>\n",
              "</div>\n",
              "      <button class=\"colab-df-convert\" onclick=\"convertToInteractive('df-de3720b5-83f6-432e-89f3-35501c711b46')\"\n",
              "              title=\"Convert this dataframe to an interactive table.\"\n",
              "              style=\"display:none;\">\n",
              "        \n",
              "  <svg xmlns=\"http://www.w3.org/2000/svg\" height=\"24px\"viewBox=\"0 0 24 24\"\n",
              "       width=\"24px\">\n",
              "    <path d=\"M0 0h24v24H0V0z\" fill=\"none\"/>\n",
              "    <path d=\"M18.56 5.44l.94 2.06.94-2.06 2.06-.94-2.06-.94-.94-2.06-.94 2.06-2.06.94zm-11 1L8.5 8.5l.94-2.06 2.06-.94-2.06-.94L8.5 2.5l-.94 2.06-2.06.94zm10 10l.94 2.06.94-2.06 2.06-.94-2.06-.94-.94-2.06-.94 2.06-2.06.94z\"/><path d=\"M17.41 7.96l-1.37-1.37c-.4-.4-.92-.59-1.43-.59-.52 0-1.04.2-1.43.59L10.3 9.45l-7.72 7.72c-.78.78-.78 2.05 0 2.83L4 21.41c.39.39.9.59 1.41.59.51 0 1.02-.2 1.41-.59l7.78-7.78 2.81-2.81c.8-.78.8-2.07 0-2.86zM5.41 20L4 18.59l7.72-7.72 1.47 1.35L5.41 20z\"/>\n",
              "  </svg>\n",
              "      </button>\n",
              "      \n",
              "  <style>\n",
              "    .colab-df-container {\n",
              "      display:flex;\n",
              "      flex-wrap:wrap;\n",
              "      gap: 12px;\n",
              "    }\n",
              "\n",
              "    .colab-df-convert {\n",
              "      background-color: #E8F0FE;\n",
              "      border: none;\n",
              "      border-radius: 50%;\n",
              "      cursor: pointer;\n",
              "      display: none;\n",
              "      fill: #1967D2;\n",
              "      height: 32px;\n",
              "      padding: 0 0 0 0;\n",
              "      width: 32px;\n",
              "    }\n",
              "\n",
              "    .colab-df-convert:hover {\n",
              "      background-color: #E2EBFA;\n",
              "      box-shadow: 0px 1px 2px rgba(60, 64, 67, 0.3), 0px 1px 3px 1px rgba(60, 64, 67, 0.15);\n",
              "      fill: #174EA6;\n",
              "    }\n",
              "\n",
              "    [theme=dark] .colab-df-convert {\n",
              "      background-color: #3B4455;\n",
              "      fill: #D2E3FC;\n",
              "    }\n",
              "\n",
              "    [theme=dark] .colab-df-convert:hover {\n",
              "      background-color: #434B5C;\n",
              "      box-shadow: 0px 1px 3px 1px rgba(0, 0, 0, 0.15);\n",
              "      filter: drop-shadow(0px 1px 2px rgba(0, 0, 0, 0.3));\n",
              "      fill: #FFFFFF;\n",
              "    }\n",
              "  </style>\n",
              "\n",
              "      <script>\n",
              "        const buttonEl =\n",
              "          document.querySelector('#df-de3720b5-83f6-432e-89f3-35501c711b46 button.colab-df-convert');\n",
              "        buttonEl.style.display =\n",
              "          google.colab.kernel.accessAllowed ? 'block' : 'none';\n",
              "\n",
              "        async function convertToInteractive(key) {\n",
              "          const element = document.querySelector('#df-de3720b5-83f6-432e-89f3-35501c711b46');\n",
              "          const dataTable =\n",
              "            await google.colab.kernel.invokeFunction('convertToInteractive',\n",
              "                                                     [key], {});\n",
              "          if (!dataTable) return;\n",
              "\n",
              "          const docLinkHtml = 'Like what you see? Visit the ' +\n",
              "            '<a target=\"_blank\" href=https://colab.research.google.com/notebooks/data_table.ipynb>data table notebook</a>'\n",
              "            + ' to learn more about interactive tables.';\n",
              "          element.innerHTML = '';\n",
              "          dataTable['output_type'] = 'display_data';\n",
              "          await google.colab.output.renderOutput(dataTable, element);\n",
              "          const docLink = document.createElement('div');\n",
              "          docLink.innerHTML = docLinkHtml;\n",
              "          element.appendChild(docLink);\n",
              "        }\n",
              "      </script>\n",
              "    </div>\n",
              "  </div>\n",
              "  "
            ]
          },
          "metadata": {},
          "execution_count": 50
        }
      ]
    },
    {
      "cell_type": "markdown",
      "source": [
        "## Estimando o desempenho dos classificadores\n",
        "\n",
        "Usando as SVM, obtenha um classificador e estimene o seu desempenho usando validação cruzada com 10 folds. Para cada conjunto de treinamento, use a técnica de Grid Search para encontrar os melhores valores de parâmetros com o Kernel RBF. Como resultado final, apresente a média e o desvio padrão das acurácias dos 10 folds de teste."
      ],
      "metadata": {
        "id": "aG-0xtqYuWC8"
      }
    },
    {
      "cell_type": "code",
      "source": [
        "X = dfCopia.drop('Survived', axis=1)\n",
        "y = dfCopia.Survived\n",
        "\n",
        "# Dividindo os dados em treino e teste\n",
        "X_train, X_test, y_train, y_test = model_selection.train_test_split(X, y, test_size=0.3, random_state=101)\n",
        "\n",
        "# Cria uma pipeline\n",
        "pipelineSVC = make_pipeline(StandardScaler(), SVC(random_state=1))\n",
        "\n",
        "# Definindo os parametros para o Grid Search\n",
        "param_grid_svc = [{\n",
        "                    'svc__C': [0.001, 0.01, 0.05, 0.1, 0.5, 1.0, 10.0],\n",
        "                    'svc__kernel': ['linear']\n",
        "                  },\n",
        "                 {\n",
        "                    'svc__C': [0.001, 0.01, 0.05, 0.1, 0.5, 1.0, 10.0],\n",
        "                    'svc__gamma': [0.001, 0.01, 0.05, 0.1, 0.5, 1.0, 10.0],\n",
        "                    'svc__kernel': ['rbf']\n",
        "                 }]\n",
        "\n",
        "# Definindo a validação cruzada de 10 folds para Grid Search\n",
        "grid = GridSearchCV(estimator=pipelineSVC,\n",
        "                     param_grid = param_grid_svc,\n",
        "                     scoring='accuracy',\n",
        "                     cv=10,\n",
        "                     refit=True,\n",
        "                     n_jobs=1)\n",
        "\n",
        "# Treinando o modelo\n",
        "grid.fit(X_train, y_train)"
      ],
      "metadata": {
        "colab": {
          "base_uri": "https://localhost:8080/"
        },
        "id": "ys65j-T_ussM",
        "outputId": "55cd6679-efe5-4c6d-d2fd-dcf8f2506b7a"
      },
      "execution_count": 51,
      "outputs": [
        {
          "output_type": "execute_result",
          "data": {
            "text/plain": [
              "GridSearchCV(cv=10,\n",
              "             estimator=Pipeline(steps=[('standardscaler', StandardScaler()),\n",
              "                                       ('svc', SVC(random_state=1))]),\n",
              "             n_jobs=1,\n",
              "             param_grid=[{'svc__C': [0.001, 0.01, 0.05, 0.1, 0.5, 1.0, 10.0],\n",
              "                          'svc__kernel': ['linear']},\n",
              "                         {'svc__C': [0.001, 0.01, 0.05, 0.1, 0.5, 1.0, 10.0],\n",
              "                          'svc__gamma': [0.001, 0.01, 0.05, 0.1, 0.5, 1.0,\n",
              "                                         10.0],\n",
              "                          'svc__kernel': ['rbf']}],\n",
              "             scoring='accuracy')"
            ]
          },
          "metadata": {},
          "execution_count": 51
        }
      ]
    },
    {
      "cell_type": "code",
      "source": [
        "# Imprime o resultado e parametro do melhor modelo encontrado\n",
        "print('Best score: %.3f' % grid.best_score_)\n",
        "print('Best parameters:')\n",
        "print(grid.best_params_)"
      ],
      "metadata": {
        "colab": {
          "base_uri": "https://localhost:8080/"
        },
        "id": "v9SA7QPLvOmp",
        "outputId": "c2399b24-4f0f-4665-ba65-d077d133bcee"
      },
      "execution_count": 52,
      "outputs": [
        {
          "output_type": "stream",
          "name": "stdout",
          "text": [
            "Best score: 0.841\n",
            "Best parameters:\n",
            "{'svc__C': 1.0, 'svc__gamma': 0.05, 'svc__kernel': 'rbf'}\n"
          ]
        }
      ]
    },
    {
      "cell_type": "code",
      "source": [
        "# Resultados das validações cruzadas\n",
        "print('Accuracy:')\n",
        "\n",
        "# Média das acurácias dos 10 folds de teste\n",
        "for i in range(10):\n",
        "  print('Fold '+ str(i) + ': %.3f' % np.mean(grid.cv_results_.get('split'+str(i)+'_test_score')))\n",
        "\n",
        "# Desvio padrão dos folds de teste\n",
        "print('\\n')\n",
        "print('STD: %.3f' % np.mean(grid.cv_results_.get('std_test_score')))"
      ],
      "metadata": {
        "colab": {
          "base_uri": "https://localhost:8080/"
        },
        "id": "dXCaTm2kvV-Y",
        "outputId": "2a819d72-06b7-4fa2-8b7b-d091bb025d2d"
      },
      "execution_count": 53,
      "outputs": [
        {
          "output_type": "stream",
          "name": "stdout",
          "text": [
            "Accuracy:\n",
            "Fold 0: 0.759\n",
            "Fold 1: 0.724\n",
            "Fold 2: 0.707\n",
            "Fold 3: 0.750\n",
            "Fold 4: 0.708\n",
            "Fold 5: 0.689\n",
            "Fold 6: 0.756\n",
            "Fold 7: 0.724\n",
            "Fold 8: 0.699\n",
            "Fold 9: 0.745\n",
            "\n",
            "\n",
            "STD: 0.032\n"
          ]
        }
      ]
    },
    {
      "cell_type": "markdown",
      "source": [
        "## Agrupamento/Segmentação\n",
        "\n",
        "\n",
        "*A) crie clusters sem usar o atributo Survived e usando duas técnicas diferentes e os dados de treinamento do desafio;*\n"
      ],
      "metadata": {
        "id": "Zm59Im4cn7aP"
      }
    },
    {
      "cell_type": "code",
      "source": [
        "# Técnica de clusterização: BIRCH\n",
        "# Método hierárquico que junta aglomeração com realocação\n",
        "\n",
        "birch = cluster.Birch(branching_factor=100, n_clusters=3, compute_labels=True, copy=True)\n",
        "birch.fit(X)\n",
        "labelsBirch = birch.labels_\n",
        "\n",
        "# Técnica de clusterização: KMeans\n",
        "# Calcula a distância de cada objeto ao centro de cada cluster \n",
        "\n",
        "kmeans = cluster.KMeans(n_clusters=5)\n",
        "kmeans.fit(X)\n",
        "labelsKMEANS = kmeans.labels_"
      ],
      "metadata": {
        "id": "PlVfZXeBoLJI"
      },
      "execution_count": 54,
      "outputs": []
    },
    {
      "cell_type": "markdown",
      "source": [
        "*B) Avalie os resultados usando as métricas homogenety, completeness e V-measure usando o atributo Survived, e silhouette coefficient (avaliação intríseca);*\n",
        "\n",
        "O Kmeans se mostrou melhor."
      ],
      "metadata": {
        "id": "JIjyc-xgoT4o"
      }
    },
    {
      "cell_type": "code",
      "source": [
        "print('HOMOGENETY')\n",
        "print('Birch: %.3f' % metrics.homogeneity_score(y, labelsBirch))\n",
        "print('Kmeans: %.3f' % metrics.homogeneity_score(y, labelsKMEANS))\n",
        "\n",
        "print('\\nCOMPLETENESS')\n",
        "print('Birch: %.3f' % metrics.completeness_score(y, labelsBirch))\n",
        "print('Kmeans: %.3f' % metrics.completeness_score(y, labelsKMEANS))\n",
        "\n",
        "print('\\nV-MEASURE')\n",
        "print('Birch: %.3f' % metrics.v_measure_score(y, labelsBirch))\n",
        "print('Kmeans: %.3f' % metrics.v_measure_score(y, labelsKMEANS))\n",
        "\n",
        "print('\\nSILHOUETTE COEFFICIENT')\n",
        "print('Birch: %.3f' % metrics.silhouette_score(dfCopia, labelsBirch))\n",
        "print('Kmeans: %.3f' % metrics.silhouette_score(dfCopia, labelsKMEANS))"
      ],
      "metadata": {
        "colab": {
          "base_uri": "https://localhost:8080/"
        },
        "id": "5ZePE5RFobfn",
        "outputId": "52e3f4c2-b3fd-4760-9ca8-026fd96dec7a"
      },
      "execution_count": 55,
      "outputs": [
        {
          "output_type": "stream",
          "name": "stdout",
          "text": [
            "HOMOGENETY\n",
            "Birch: 0.026\n",
            "Kmeans: 0.056\n",
            "\n",
            "COMPLETENESS\n",
            "Birch: 0.072\n",
            "Kmeans: 0.055\n",
            "\n",
            "V-MEASURE\n",
            "Birch: 0.038\n",
            "Kmeans: 0.056\n",
            "\n",
            "SILHOUETTE COEFFICIENT\n",
            "Birch: 0.779\n",
            "Kmeans: 0.618\n"
          ]
        }
      ]
    },
    {
      "cell_type": "markdown",
      "source": [
        "### Referências\n",
        "\n",
        "*   https://edisciplinas.usp.br/pluginfile.php/4052836/mod_resource/content/4/mineracaodadosbiologicos-parte3.pdf\n",
        "\n",
        "*   https://www.kaggle.com/code/startupsci/titanic-data-science-solutions\n",
        "\n",
        "*   https://builtin.com/data-science/data-clustering-python\n",
        "\n",
        "\n"
      ],
      "metadata": {
        "id": "trEekNNGuU_U"
      }
    }
  ]
}